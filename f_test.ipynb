{
 "cells": [
  {
   "cell_type": "markdown",
   "metadata": {
    "id": "kZkp3-_nKQ1l"
   },
   "source": [
    "KIỂM ĐỊNH F\n",
    "\n",
    "Thay vì xây dựng giả thuyết với giá trị trung bình, người ta có thể xây dựng giả thuyết với phương sai (variance $\\sigma^{2}$). Trong trường hợp này, chúng ta sử dụng kiểm định F. Tóm tắt về kiểm định F như sau:\n",
    "\n",
    "Kiểm định một đuôi:\n",
    "\n",
    "$$H_{0}: \\sigma^{2} = \\sigma_{0}^{2} $$\n",
    "\n",
    "$$H_{a}: \\sigma^{2} < \\sigma_{0}^{2} (H_{a}: \\sigma^{2} > \\sigma_{0}^{2})$$ \n",
    "\n",
    "Giá trị thống kê kiểm định:\n",
    "\n",
    "$$ \\chi^{2} = \\frac{(n-1)s^{2}}{\\sigma_{0}^{2}}$$\n",
    "\n",
    "Vùng bác bỏ: $\\chi^{2} < \\chi_{(1 - \\alpha)}^{2}$  hoặc $\\chi^{2} > \\chi_{(1 - \\alpha)}^{2}$  khi $H_{a}: \\sigma^{2} > \\sigma_{0}^{2}$\n",
    "\n",
    "Ghi chú: \n",
    "\n",
    "- $\\chi^{2}$ - chi-square\n",
    "- (n - 1) mức tự do\n",
    "\n"
   ]
  },
  {
   "cell_type": "markdown",
   "metadata": {
    "id": "XyS_yVNYKQ1p"
   },
   "source": [
    "Kiểm định 2 đuôi:\n",
    "\n",
    "$$H_{0}: \\sigma^{2} = \\sigma_{0}^{2}$$\n",
    "$$H_{a}:\\sigma^{2} \\neq \\sigma_{0}^{2} $$\n",
    "\n",
    "Giá trị thống kê kiểm định:\n",
    "\n",
    "$$ \\chi^{2} = \\frac{(n-1)s^{2}}{\\sigma_{0}^{2}}$$\n",
    "\n",
    "Vùng bác bỏ: $\\chi^{2} < \\chi_{(1 - \\alpha/2)}^{2}$  hoặc $\\chi^{2} > \\chi_{(\\alpha/2)}^{2}$  \n",
    "Ghi chú: \n",
    "\n",
    "- $\\chi^{2}$ - chi-square\n",
    "- (n - 1) mức tự do"
   ]
  },
  {
   "cell_type": "markdown",
   "metadata": {
    "id": "LJK79N6iKQ1q"
   },
   "source": [
    "THỰC HÀNH KIỂM ĐỊNH F\n",
    "\n",
    "Bước 1: Sinh ngẫu nhiên số liệu\n",
    "\n",
    "Bước 2: Xây dựng giả thuyết \n",
    "\n",
    "Bước 3: Kiểm định Bartlett "
   ]
  },
  {
   "cell_type": "code",
   "execution_count": 16,
   "metadata": {
    "id": "ON0efaYCKQ1q"
   },
   "outputs": [],
   "source": [
    "import numpy as np\n",
    "import pandas as pd\n",
    "import random\n",
    "from scipy import stats\n",
    "from statsmodels.stats.weightstats import ztest\n",
    "import warnings\n",
    "import matplotlib.pyplot as plt\n",
    "import seaborn as sns\n",
    "%matplotlib inline"
   ]
  },
  {
   "cell_type": "code",
   "execution_count": 8,
   "metadata": {
    "id": "-pTws5YKKQ1r"
   },
   "outputs": [],
   "source": [
    "#Sinh ngẫu nhiên 1000 mẫu tuân theo phân phối chuẩn có trung bình mẫu là 7.5 và độ lệch chuẩn là 0.25\n",
    "mean_1 = 7.5\n",
    "std_1 = 0.25\n",
    "N_1 = 1000\n",
    "samples_1 = np.random.normal(mean_1, std_1, N_1)"
   ]
  },
  {
   "cell_type": "code",
   "execution_count": 9,
   "metadata": {
    "colab": {
     "base_uri": "https://localhost:8080/"
    },
    "id": "tvTAsWpoKQ1r",
    "outputId": "e3156cc8-644a-4fa0-dc79-2ff07adf1922"
   },
   "outputs": [
    {
     "name": "stdout",
     "output_type": "stream",
     "text": [
      "[7.40521596 7.55295326 7.53730808 7.40789478 7.3011384  7.25791201\n",
      " 7.4866233  7.50999587 7.2729677  7.23644424]\n"
     ]
    }
   ],
   "source": [
    "#In ra 10 phần tử đầu tiên\n",
    "print(samples_1[:10])"
   ]
  },
  {
   "cell_type": "code",
   "execution_count": 10,
   "metadata": {
    "id": "caxDAvRAKQ1s"
   },
   "outputs": [],
   "source": [
    "#Sinh ngẫu nhiên 900 mẫu tuân theo phân phối chuẩn có trung bình mẫu là 7 và độ lệch chuẩn là 0.2\n",
    "mean_2= 7\n",
    "std_2 = 0.2\n",
    "N_2 = 900\n",
    "samples_2 = np.random.normal(mean_2, std_2, N_2)"
   ]
  },
  {
   "cell_type": "code",
   "execution_count": 11,
   "metadata": {
    "colab": {
     "base_uri": "https://localhost:8080/"
    },
    "id": "8oAmATfUKQ1s",
    "outputId": "e7f43b52-3a97-4319-f276-cddc743697fb"
   },
   "outputs": [
    {
     "name": "stdout",
     "output_type": "stream",
     "text": [
      "[7.15612956 6.91320341 7.2336125  6.94006834 7.01369977 7.16775854\n",
      " 7.0095941  7.26951575 6.90553065 7.12670935]\n"
     ]
    }
   ],
   "source": [
    "#In ra 10 phần tử đầu tiên\n",
    "print(samples_2[:10])"
   ]
  },
  {
   "cell_type": "markdown",
   "metadata": {
    "id": "1OnfzgqXKQ1t"
   },
   "source": [
    "Xây dựng giả thuyết:\n",
    "$$H_{0}: \\sigma_{1}^{2} = \\sigma_{2}^{2}$$\n",
    "$$H_{a}: \\sigma_{1}^{2} \\neq \\sigma_{2}^{2}$$"
   ]
  },
  {
   "cell_type": "code",
   "execution_count": 12,
   "metadata": {
    "colab": {
     "base_uri": "https://localhost:8080/"
    },
    "id": "ElvtgDEJKQ1t",
    "outputId": "d6d39839-3069-4986-c0e3-a187546cd9d4"
   },
   "outputs": [
    {
     "name": "stdout",
     "output_type": "stream",
     "text": [
      "Stat value:  40.36272749142408 ; p-value:  2.109268790899422e-10\n"
     ]
    }
   ],
   "source": [
    "#Kiểm định Bartlett\n",
    "stat_value, p_value = stats.bartlett(samples_1, samples_2)\n",
    "print(\"Stat value: \", stat_value, \"; p-value: \", p_value)"
   ]
  },
  {
   "cell_type": "code",
   "execution_count": 13,
   "metadata": {
    "colab": {
     "base_uri": "https://localhost:8080/"
    },
    "id": "bizvb3cYKQ1t",
    "outputId": "7be8f169-11da-431b-e5f5-67481a48f96d"
   },
   "outputs": [
    {
     "name": "stdout",
     "output_type": "stream",
     "text": [
      "Có bằng chứng để bác bỏ giả thuyết H0\n"
     ]
    }
   ],
   "source": [
    "alpha = 0.05\n",
    "if(p_value <  alpha):\n",
    "  print(\"Có bằng chứng để bác bỏ giả thuyết H0\")\n",
    "else:\n",
    "  print(\"Chưa có bằng chứng để bác bỏ giả thuyết H0\")"
   ]
  },
  {
   "cell_type": "markdown",
   "metadata": {
    "id": "NcUGz5wEKQ1u"
   },
   "source": [
    "BÀI TẬP\n",
    "\n",
    "Bạn hãy thử viết code tiến hành kiểm định F 1 đuôi?\n",
    "\n",
    "Gợi ý: Thử tìm kiếm ví dụ về kiểm dịnh F 1 đuôi trong ngôn ngữ lập trình Python & R để nhận thấy sự khác biệt."
   ]
  },
  {
   "cell_type": "code",
   "execution_count": 18,
   "metadata": {
    "colab": {
     "base_uri": "https://localhost:8080/"
    },
    "id": "KL98OCSXKQ1v",
    "outputId": "3fc37178-5123-4481-d05d-456d1a9cdc99"
   },
   "outputs": [
    {
     "name": "stdout",
     "output_type": "stream",
     "text": [
      "Variance a=0.061, Variance b=0.040\n",
      "0.6595976400285847 0.8986910123887417\n",
      "Reject H0 7.745902252474978e-11\n"
     ]
    }
   ],
   "source": [
    "#Code here\n",
    "a = samples_1\n",
    "b = samples_2\n",
    "print('Variance a={0:.3f}, Variance b={1:.3f}'.format(np.var(a, ddof=1), np.var(b, ddof=1)))\n",
    "fstatistics = min(np.var(a, ddof=1), np.var(b, ddof=1))/max(np.var(a, ddof=1), np.var(b, ddof=1)) # ước định trung bình từ dữ liệu\n",
    "fdistribution = stats.f(len(a)-1,len(b)-1) # xây dựng một đối tượng phân phối F\n",
    "p_value = fdistribution.cdf(fstatistics)\n",
    "f_critical = fdistribution.ppf(0.05)\n",
    "print(fstatistics, f_critical)\n",
    "if (p_value<0.05):\n",
    "    print('Reject H0', p_value)\n",
    "else:\n",
    "    print('Cant Reject H0', p_value)"
   ]
  }
 ],
 "metadata": {
  "colab": {
   "name": "kiem-dinh-f.ipynb",
   "provenance": []
  },
  "kernelspec": {
   "display_name": "Python 3",
   "language": "python",
   "name": "python3"
  },
  "language_info": {
   "codemirror_mode": {
    "name": "ipython",
    "version": 3
   },
   "file_extension": ".py",
   "mimetype": "text/x-python",
   "name": "python",
   "nbconvert_exporter": "python",
   "pygments_lexer": "ipython3",
   "version": "3.8.5"
  }
 },
 "nbformat": 4,
 "nbformat_minor": 1
}
