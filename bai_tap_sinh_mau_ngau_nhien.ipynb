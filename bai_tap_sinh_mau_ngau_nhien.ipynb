{
 "cells": [
  {
   "cell_type": "markdown",
   "metadata": {
    "id": "ZTYFBjY6U5-y"
   },
   "source": [
    "Sử dụng thư viện Numpy\n",
    "\n",
    "1. Sinh mẫu ngẫu nhiên bằng hàm arange trong khoảng [-15, 27] với khoảng cách là 0.7 và in kết quả ra màn hình"
   ]
  },
  {
   "cell_type": "code",
   "execution_count": 4,
   "metadata": {
    "id": "3h0STnOHU5-0"
   },
   "outputs": [
    {
     "name": "stdout",
     "output_type": "stream",
     "text": [
      "[-15.  -14.3 -13.6 -12.9 -12.2 -11.5 -10.8 -10.1  -9.4  -8.7  -8.   -7.3\n",
      "  -6.6  -5.9  -5.2  -4.5  -3.8  -3.1  -2.4  -1.7  -1.   -0.3   0.4   1.1\n",
      "   1.8   2.5   3.2   3.9   4.6   5.3   6.    6.7   7.4   8.1   8.8   9.5\n",
      "  10.2  10.9  11.6  12.3  13.   13.7  14.4  15.1  15.8  16.5  17.2  17.9\n",
      "  18.6  19.3  20.   20.7  21.4  22.1  22.8  23.5  24.2  24.9  25.6  26.3\n",
      "  27. ]\n"
     ]
    }
   ],
   "source": [
    "#Code \n",
    "import numpy as np\n",
    "a = np.arange(-15,27, 0.7)\n",
    "print (a)"
   ]
  },
  {
   "cell_type": "markdown",
   "metadata": {
    "id": "Ps69TUK7U5-1"
   },
   "source": [
    "2. Sinh mẫu ngẫu nhiên theo phân phối chuẩn với mean = 2.7 std = 1.2 và size = 40\n",
    "In kết quả ra màn hình"
   ]
  },
  {
   "cell_type": "code",
   "execution_count": 5,
   "metadata": {
    "id": "TEUsEDnuU5-1"
   },
   "outputs": [
    {
     "data": {
      "text/plain": [
       "array([ 1.9622229 ,  3.22325427,  3.25466345,  3.19741031,  3.44015591,\n",
       "        1.65538133,  3.14854868,  2.40984681,  0.51875981,  0.77093288,\n",
       "        2.56837608,  3.31322958,  3.71633369,  2.65938286,  4.246866  ,\n",
       "        3.57593891,  1.39159298,  2.02568284,  4.91715177,  4.76627318,\n",
       "        1.3568506 ,  2.74812306,  1.36376186,  2.31246819,  2.63564358,\n",
       "        4.32902926,  3.38710349,  2.49002147,  2.49628119, -0.0798206 ,\n",
       "        3.46127204,  1.10762364,  2.29272908,  3.14804371,  1.33445659,\n",
       "        3.20956839,  1.61288375,  4.43642747,  1.57088063,  2.22876847])"
      ]
     },
     "execution_count": 5,
     "metadata": {},
     "output_type": "execute_result"
    }
   ],
   "source": [
    "#Code\n",
    "np.random.normal(2.7, 1.2, 40)"
   ]
  },
  {
   "cell_type": "markdown",
   "metadata": {
    "id": "CCLYLXrFU5-1"
   },
   "source": [
    "3. Sinh mẫu ngẫu nhiên từ vector ['Viet Nam', 'Britain', 'France', 'Russia', 'Singapore'] \n",
    "\n",
    "với kích thước là 17 theo phân phối chuẩn"
   ]
  },
  {
   "cell_type": "code",
   "execution_count": 6,
   "metadata": {
    "id": "rgeFFhyaU5-2"
   },
   "outputs": [
    {
     "name": "stdout",
     "output_type": "stream",
     "text": [
      "['France' 'Viet Nam' 'Britain' 'Singapore' 'Singapore' 'Britain' 'France'\n",
      " 'Singapore' 'Britain' 'France' 'Singapore' 'Singapore' 'Russia' 'France'\n",
      " 'Singapore' 'Britain' 'Singapore']\n"
     ]
    }
   ],
   "source": [
    "#Code\n",
    "sample = np.random.choice(['Viet Nam', 'Britain', 'France', 'Russia', 'Singapore'], 17)\n",
    "print(sample)"
   ]
  },
  {
   "cell_type": "markdown",
   "metadata": {
    "id": "atWDWvltU5-2"
   },
   "source": [
    "4. Sinh mẫu ngẫu nhiên ở câu 3 nhưng không theo phân phối chuẩn mà theo 1 vector đặc tả giá trị xác suất do bạn chọn"
   ]
  },
  {
   "cell_type": "code",
   "execution_count": 7,
   "metadata": {
    "id": "0luiKyDxU5-2"
   },
   "outputs": [
    {
     "data": {
      "text/plain": [
       "array(['Viet Nam', 'France', 'Russia', 'Singapore', 'Russia'], dtype='<U9')"
      ]
     },
     "execution_count": 7,
     "metadata": {},
     "output_type": "execute_result"
    }
   ],
   "source": [
    "#Code\n",
    "np.random.choice(['Viet Nam', 'Britain', 'France', 'Russia', 'Singapore'],5,[0.1, 0.1, 0.2, 0.2, 0.4])"
   ]
  },
  {
   "cell_type": "markdown",
   "metadata": {
    "id": "h68ejtt6U5-2"
   },
   "source": [
    "Sử dụng thư việc scipy.stats để sinh mẫu ngẫu nhiên\n",
    "\n",
    "1. Sinh mẫu ngẫu nhiên theo phân phối chuẩn với mean = 12.7, std = 2.6 và size = 30. In kết quả ra màn hình"
   ]
  },
  {
   "cell_type": "code",
   "execution_count": 9,
   "metadata": {
    "id": "iCTqGKdjU5-3"
   },
   "outputs": [
    {
     "name": "stdout",
     "output_type": "stream",
     "text": [
      "[11.38925226 11.74428144 12.55604126 12.53693962 15.10657663 12.12317315\n",
      " 11.27548317 15.50530305 15.67095069  8.87941849 14.80936251 16.2253195\n",
      "  9.96022514 13.40957286 10.26113313 12.18212531 14.82459634 14.61927143\n",
      " 13.4534167  14.40134299 11.30582988 11.30961785 14.18749989 14.61697357\n",
      " 11.25450611 13.2135506  12.1335982  11.03358523 13.52137295 13.40691212]\n"
     ]
    }
   ],
   "source": [
    "#Code\n",
    "from scipy import stats\n",
    "sample_1 = stats.norm.rvs(loc = 12.7, scale = 2.6, size = 30)\n",
    "print(sample_1)"
   ]
  },
  {
   "cell_type": "markdown",
   "metadata": {
    "id": "_tURTaZbU5-3"
   },
   "source": [
    "2. Hãy sinh một mẫu ngẫu nhiên theo phân phối Poisson"
   ]
  },
  {
   "cell_type": "code",
   "execution_count": 16,
   "metadata": {
    "id": "0oYTFOMVU5-3"
   },
   "outputs": [
    {
     "data": {
      "text/plain": [
       "array([15, 12, 15, 17, 15, 15, 16, 13, 16, 12, 13, 14, 13, 19, 15, 16, 14,\n",
       "       15, 13, 14, 13, 16, 17, 15, 14, 13, 17, 17, 15, 14])"
      ]
     },
     "execution_count": 16,
     "metadata": {},
     "output_type": "execute_result"
    }
   ],
   "source": [
    "#Code\n",
    "sample_2 = stats.poisson.rvs(loc=12.7,\n",
    "                              mu=2.6,\n",
    "                              size=30)\n",
    "sample_2"
   ]
  },
  {
   "cell_type": "code",
   "execution_count": null,
   "metadata": {
    "id": "G3swW4P0U5-3"
   },
   "outputs": [],
   "source": []
  }
 ],
 "metadata": {
  "colab": {
   "name": "bai-tap-sinh-mau-ngau-nhien.ipynb",
   "provenance": []
  },
  "kernelspec": {
   "display_name": "Python 3",
   "language": "python",
   "name": "python3"
  },
  "language_info": {
   "codemirror_mode": {
    "name": "ipython",
    "version": 3
   },
   "file_extension": ".py",
   "mimetype": "text/x-python",
   "name": "python",
   "nbconvert_exporter": "python",
   "pygments_lexer": "ipython3",
   "version": "3.8.5"
  }
 },
 "nbformat": 4,
 "nbformat_minor": 1
}
