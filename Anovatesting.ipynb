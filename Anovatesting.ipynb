{
 "cells": [
  {
   "cell_type": "code",
   "execution_count": 1,
   "id": "adult-formula",
   "metadata": {},
   "outputs": [],
   "source": [
    "# Các thư viện:\n",
    "import numpy as np\n",
    "import pandas as pd\n",
    "import matplotlib.pyplot as plt \n",
    "import scipy\n",
    "import statistics\n",
    "import seaborn as sns \n",
    "import statsmodels\n",
    "import statsmodels.api as sm\n",
    "from statsmodels.formula.api import ols\n",
    "from scipy import stats\n",
    "\n",
    "\n",
    "%matplotlib inline\n",
    "plt.rcParams['figure.figsize'] =  [16,9]\n",
    "plt.rcParams['figure.dpi'] = 100\n",
    "plt.rcParams.update({'font.size': 18})"
   ]
  },
  {
   "cell_type": "code",
   "execution_count": 2,
   "id": "revised-single",
   "metadata": {},
   "outputs": [],
   "source": [
    "# Các hàm:\n",
    "def hist(inp):\n",
    "    plt.figure()\n",
    "    ax = sns.distplot(inp)\n",
    "    plt.axvline(np.mean(inp), color=\"r\", linestyle=\"dashed\", linewidth=5)\n",
    "    _, max_ = plt.ylim()\n",
    "    plt.text(\n",
    "        inp.mean() + inp.mean() / 10,\n",
    "        max_ - max_ / 10,\n",
    "        \"Mean: {:.2f}\".format(inp.mean()),\n",
    "    )\n",
    "    return plt.figure\n",
    "def standadize(data):\n",
    "    mean = np.mean(data)\n",
    "    std = np.std(data)\n",
    "    return (data - mean)/st"
   ]
  },
  {
   "cell_type": "code",
   "execution_count": 3,
   "id": "separate-narrative",
   "metadata": {},
   "outputs": [],
   "source": [
    "df = pd.read_csv('Diet_R.csv')"
   ]
  },
  {
   "cell_type": "code",
   "execution_count": 4,
   "id": "encouraging-proposition",
   "metadata": {},
   "outputs": [
    {
     "data": {
      "text/html": [
       "<div>\n",
       "<style scoped>\n",
       "    .dataframe tbody tr th:only-of-type {\n",
       "        vertical-align: middle;\n",
       "    }\n",
       "\n",
       "    .dataframe tbody tr th {\n",
       "        vertical-align: top;\n",
       "    }\n",
       "\n",
       "    .dataframe thead th {\n",
       "        text-align: right;\n",
       "    }\n",
       "</style>\n",
       "<table border=\"1\" class=\"dataframe\">\n",
       "  <thead>\n",
       "    <tr style=\"text-align: right;\">\n",
       "      <th></th>\n",
       "      <th>Person</th>\n",
       "      <th>gender</th>\n",
       "      <th>Age</th>\n",
       "      <th>Height</th>\n",
       "      <th>pre.weight</th>\n",
       "      <th>Diet</th>\n",
       "      <th>weight6weeks</th>\n",
       "    </tr>\n",
       "  </thead>\n",
       "  <tbody>\n",
       "    <tr>\n",
       "      <th>55</th>\n",
       "      <td>41</td>\n",
       "      <td>1.0</td>\n",
       "      <td>51</td>\n",
       "      <td>191</td>\n",
       "      <td>71</td>\n",
       "      <td>2</td>\n",
       "      <td>66.8</td>\n",
       "    </tr>\n",
       "    <tr>\n",
       "      <th>77</th>\n",
       "      <td>78</td>\n",
       "      <td>1.0</td>\n",
       "      <td>51</td>\n",
       "      <td>175</td>\n",
       "      <td>88</td>\n",
       "      <td>3</td>\n",
       "      <td>81.9</td>\n",
       "    </tr>\n",
       "    <tr>\n",
       "      <th>15</th>\n",
       "      <td>14</td>\n",
       "      <td>0.0</td>\n",
       "      <td>37</td>\n",
       "      <td>167</td>\n",
       "      <td>82</td>\n",
       "      <td>1</td>\n",
       "      <td>81.1</td>\n",
       "    </tr>\n",
       "    <tr>\n",
       "      <th>52</th>\n",
       "      <td>22</td>\n",
       "      <td>1.0</td>\n",
       "      <td>42</td>\n",
       "      <td>166</td>\n",
       "      <td>85</td>\n",
       "      <td>1</td>\n",
       "      <td>81.5</td>\n",
       "    </tr>\n",
       "    <tr>\n",
       "      <th>64</th>\n",
       "      <td>50</td>\n",
       "      <td>1.0</td>\n",
       "      <td>39</td>\n",
       "      <td>180</td>\n",
       "      <td>80</td>\n",
       "      <td>2</td>\n",
       "      <td>81.4</td>\n",
       "    </tr>\n",
       "    <tr>\n",
       "      <th>70</th>\n",
       "      <td>71</td>\n",
       "      <td>1.0</td>\n",
       "      <td>31</td>\n",
       "      <td>177</td>\n",
       "      <td>78</td>\n",
       "      <td>3</td>\n",
       "      <td>75.2</td>\n",
       "    </tr>\n",
       "    <tr>\n",
       "      <th>53</th>\n",
       "      <td>23</td>\n",
       "      <td>1.0</td>\n",
       "      <td>39</td>\n",
       "      <td>166</td>\n",
       "      <td>87</td>\n",
       "      <td>1</td>\n",
       "      <td>81.9</td>\n",
       "    </tr>\n",
       "    <tr>\n",
       "      <th>74</th>\n",
       "      <td>75</td>\n",
       "      <td>1.0</td>\n",
       "      <td>49</td>\n",
       "      <td>177</td>\n",
       "      <td>84</td>\n",
       "      <td>3</td>\n",
       "      <td>79.9</td>\n",
       "    </tr>\n",
       "    <tr>\n",
       "      <th>41</th>\n",
       "      <td>63</td>\n",
       "      <td>0.0</td>\n",
       "      <td>35</td>\n",
       "      <td>171</td>\n",
       "      <td>72</td>\n",
       "      <td>3</td>\n",
       "      <td>64.4</td>\n",
       "    </tr>\n",
       "    <tr>\n",
       "      <th>76</th>\n",
       "      <td>77</td>\n",
       "      <td>1.0</td>\n",
       "      <td>40</td>\n",
       "      <td>167</td>\n",
       "      <td>87</td>\n",
       "      <td>3</td>\n",
       "      <td>77.8</td>\n",
       "    </tr>\n",
       "  </tbody>\n",
       "</table>\n",
       "</div>"
      ],
      "text/plain": [
       "    Person  gender  Age  Height  pre.weight  Diet  weight6weeks\n",
       "55      41     1.0   51     191          71     2          66.8\n",
       "77      78     1.0   51     175          88     3          81.9\n",
       "15      14     0.0   37     167          82     1          81.1\n",
       "52      22     1.0   42     166          85     1          81.5\n",
       "64      50     1.0   39     180          80     2          81.4\n",
       "70      71     1.0   31     177          78     3          75.2\n",
       "53      23     1.0   39     166          87     1          81.9\n",
       "74      75     1.0   49     177          84     3          79.9\n",
       "41      63     0.0   35     171          72     3          64.4\n",
       "76      77     1.0   40     167          87     3          77.8"
      ]
     },
     "execution_count": 4,
     "metadata": {},
     "output_type": "execute_result"
    }
   ],
   "source": [
    "df.sample(10)"
   ]
  },
  {
   "cell_type": "code",
   "execution_count": 5,
   "id": "indirect-roommate",
   "metadata": {},
   "outputs": [
    {
     "data": {
      "text/html": [
       "<div>\n",
       "<style scoped>\n",
       "    .dataframe tbody tr th:only-of-type {\n",
       "        vertical-align: middle;\n",
       "    }\n",
       "\n",
       "    .dataframe tbody tr th {\n",
       "        vertical-align: top;\n",
       "    }\n",
       "\n",
       "    .dataframe thead th {\n",
       "        text-align: right;\n",
       "    }\n",
       "</style>\n",
       "<table border=\"1\" class=\"dataframe\">\n",
       "  <thead>\n",
       "    <tr style=\"text-align: right;\">\n",
       "      <th></th>\n",
       "      <th>Person</th>\n",
       "      <th>gender</th>\n",
       "      <th>Age</th>\n",
       "      <th>Height</th>\n",
       "      <th>pre.weight</th>\n",
       "      <th>Diet</th>\n",
       "      <th>weight6weeks</th>\n",
       "    </tr>\n",
       "  </thead>\n",
       "  <tbody>\n",
       "    <tr>\n",
       "      <th>2</th>\n",
       "      <td>1</td>\n",
       "      <td>0.0</td>\n",
       "      <td>22</td>\n",
       "      <td>159</td>\n",
       "      <td>58</td>\n",
       "      <td>1</td>\n",
       "      <td>54.2</td>\n",
       "    </tr>\n",
       "    <tr>\n",
       "      <th>3</th>\n",
       "      <td>2</td>\n",
       "      <td>0.0</td>\n",
       "      <td>46</td>\n",
       "      <td>192</td>\n",
       "      <td>60</td>\n",
       "      <td>1</td>\n",
       "      <td>54.0</td>\n",
       "    </tr>\n",
       "    <tr>\n",
       "      <th>4</th>\n",
       "      <td>3</td>\n",
       "      <td>0.0</td>\n",
       "      <td>55</td>\n",
       "      <td>170</td>\n",
       "      <td>64</td>\n",
       "      <td>1</td>\n",
       "      <td>63.3</td>\n",
       "    </tr>\n",
       "    <tr>\n",
       "      <th>5</th>\n",
       "      <td>4</td>\n",
       "      <td>0.0</td>\n",
       "      <td>33</td>\n",
       "      <td>171</td>\n",
       "      <td>64</td>\n",
       "      <td>1</td>\n",
       "      <td>61.1</td>\n",
       "    </tr>\n",
       "    <tr>\n",
       "      <th>6</th>\n",
       "      <td>5</td>\n",
       "      <td>0.0</td>\n",
       "      <td>50</td>\n",
       "      <td>170</td>\n",
       "      <td>65</td>\n",
       "      <td>1</td>\n",
       "      <td>62.2</td>\n",
       "    </tr>\n",
       "    <tr>\n",
       "      <th>...</th>\n",
       "      <td>...</td>\n",
       "      <td>...</td>\n",
       "      <td>...</td>\n",
       "      <td>...</td>\n",
       "      <td>...</td>\n",
       "      <td>...</td>\n",
       "      <td>...</td>\n",
       "    </tr>\n",
       "    <tr>\n",
       "      <th>73</th>\n",
       "      <td>74</td>\n",
       "      <td>1.0</td>\n",
       "      <td>35</td>\n",
       "      <td>183</td>\n",
       "      <td>83</td>\n",
       "      <td>3</td>\n",
       "      <td>80.2</td>\n",
       "    </tr>\n",
       "    <tr>\n",
       "      <th>74</th>\n",
       "      <td>75</td>\n",
       "      <td>1.0</td>\n",
       "      <td>49</td>\n",
       "      <td>177</td>\n",
       "      <td>84</td>\n",
       "      <td>3</td>\n",
       "      <td>79.9</td>\n",
       "    </tr>\n",
       "    <tr>\n",
       "      <th>75</th>\n",
       "      <td>76</td>\n",
       "      <td>1.0</td>\n",
       "      <td>28</td>\n",
       "      <td>164</td>\n",
       "      <td>85</td>\n",
       "      <td>3</td>\n",
       "      <td>79.7</td>\n",
       "    </tr>\n",
       "    <tr>\n",
       "      <th>76</th>\n",
       "      <td>77</td>\n",
       "      <td>1.0</td>\n",
       "      <td>40</td>\n",
       "      <td>167</td>\n",
       "      <td>87</td>\n",
       "      <td>3</td>\n",
       "      <td>77.8</td>\n",
       "    </tr>\n",
       "    <tr>\n",
       "      <th>77</th>\n",
       "      <td>78</td>\n",
       "      <td>1.0</td>\n",
       "      <td>51</td>\n",
       "      <td>175</td>\n",
       "      <td>88</td>\n",
       "      <td>3</td>\n",
       "      <td>81.9</td>\n",
       "    </tr>\n",
       "  </tbody>\n",
       "</table>\n",
       "<p>76 rows × 7 columns</p>\n",
       "</div>"
      ],
      "text/plain": [
       "    Person  gender  Age  Height  pre.weight  Diet  weight6weeks\n",
       "2        1     0.0   22     159          58     1          54.2\n",
       "3        2     0.0   46     192          60     1          54.0\n",
       "4        3     0.0   55     170          64     1          63.3\n",
       "5        4     0.0   33     171          64     1          61.1\n",
       "6        5     0.0   50     170          65     1          62.2\n",
       "..     ...     ...  ...     ...         ...   ...           ...\n",
       "73      74     1.0   35     183          83     3          80.2\n",
       "74      75     1.0   49     177          84     3          79.9\n",
       "75      76     1.0   28     164          85     3          79.7\n",
       "76      77     1.0   40     167          87     3          77.8\n",
       "77      78     1.0   51     175          88     3          81.9\n",
       "\n",
       "[76 rows x 7 columns]"
      ]
     },
     "execution_count": 5,
     "metadata": {},
     "output_type": "execute_result"
    }
   ],
   "source": [
    "# Index 25, 26 thiếu dữ liệu -> loại bỏ \n",
    "rm = df.drop([0, 1])\n",
    "rm"
   ]
  },
  {
   "cell_type": "code",
   "execution_count": 6,
   "id": "advanced-restriction",
   "metadata": {},
   "outputs": [
    {
     "data": {
      "text/html": [
       "<div>\n",
       "<style scoped>\n",
       "    .dataframe tbody tr th:only-of-type {\n",
       "        vertical-align: middle;\n",
       "    }\n",
       "\n",
       "    .dataframe tbody tr th {\n",
       "        vertical-align: top;\n",
       "    }\n",
       "\n",
       "    .dataframe thead th {\n",
       "        text-align: right;\n",
       "    }\n",
       "</style>\n",
       "<table border=\"1\" class=\"dataframe\">\n",
       "  <thead>\n",
       "    <tr style=\"text-align: right;\">\n",
       "      <th></th>\n",
       "      <th>gender</th>\n",
       "      <th>Age</th>\n",
       "      <th>Height</th>\n",
       "      <th>pre.weight</th>\n",
       "      <th>Diet</th>\n",
       "      <th>weight6weeks</th>\n",
       "    </tr>\n",
       "    <tr>\n",
       "      <th>Person</th>\n",
       "      <th></th>\n",
       "      <th></th>\n",
       "      <th></th>\n",
       "      <th></th>\n",
       "      <th></th>\n",
       "      <th></th>\n",
       "    </tr>\n",
       "  </thead>\n",
       "  <tbody>\n",
       "    <tr>\n",
       "      <th>1</th>\n",
       "      <td>0.0</td>\n",
       "      <td>22</td>\n",
       "      <td>159</td>\n",
       "      <td>58</td>\n",
       "      <td>1</td>\n",
       "      <td>54.2</td>\n",
       "    </tr>\n",
       "    <tr>\n",
       "      <th>2</th>\n",
       "      <td>0.0</td>\n",
       "      <td>46</td>\n",
       "      <td>192</td>\n",
       "      <td>60</td>\n",
       "      <td>1</td>\n",
       "      <td>54.0</td>\n",
       "    </tr>\n",
       "    <tr>\n",
       "      <th>3</th>\n",
       "      <td>0.0</td>\n",
       "      <td>55</td>\n",
       "      <td>170</td>\n",
       "      <td>64</td>\n",
       "      <td>1</td>\n",
       "      <td>63.3</td>\n",
       "    </tr>\n",
       "    <tr>\n",
       "      <th>4</th>\n",
       "      <td>0.0</td>\n",
       "      <td>33</td>\n",
       "      <td>171</td>\n",
       "      <td>64</td>\n",
       "      <td>1</td>\n",
       "      <td>61.1</td>\n",
       "    </tr>\n",
       "    <tr>\n",
       "      <th>5</th>\n",
       "      <td>0.0</td>\n",
       "      <td>50</td>\n",
       "      <td>170</td>\n",
       "      <td>65</td>\n",
       "      <td>1</td>\n",
       "      <td>62.2</td>\n",
       "    </tr>\n",
       "    <tr>\n",
       "      <th>...</th>\n",
       "      <td>...</td>\n",
       "      <td>...</td>\n",
       "      <td>...</td>\n",
       "      <td>...</td>\n",
       "      <td>...</td>\n",
       "      <td>...</td>\n",
       "    </tr>\n",
       "    <tr>\n",
       "      <th>74</th>\n",
       "      <td>1.0</td>\n",
       "      <td>35</td>\n",
       "      <td>183</td>\n",
       "      <td>83</td>\n",
       "      <td>3</td>\n",
       "      <td>80.2</td>\n",
       "    </tr>\n",
       "    <tr>\n",
       "      <th>75</th>\n",
       "      <td>1.0</td>\n",
       "      <td>49</td>\n",
       "      <td>177</td>\n",
       "      <td>84</td>\n",
       "      <td>3</td>\n",
       "      <td>79.9</td>\n",
       "    </tr>\n",
       "    <tr>\n",
       "      <th>76</th>\n",
       "      <td>1.0</td>\n",
       "      <td>28</td>\n",
       "      <td>164</td>\n",
       "      <td>85</td>\n",
       "      <td>3</td>\n",
       "      <td>79.7</td>\n",
       "    </tr>\n",
       "    <tr>\n",
       "      <th>77</th>\n",
       "      <td>1.0</td>\n",
       "      <td>40</td>\n",
       "      <td>167</td>\n",
       "      <td>87</td>\n",
       "      <td>3</td>\n",
       "      <td>77.8</td>\n",
       "    </tr>\n",
       "    <tr>\n",
       "      <th>78</th>\n",
       "      <td>1.0</td>\n",
       "      <td>51</td>\n",
       "      <td>175</td>\n",
       "      <td>88</td>\n",
       "      <td>3</td>\n",
       "      <td>81.9</td>\n",
       "    </tr>\n",
       "  </tbody>\n",
       "</table>\n",
       "<p>76 rows × 6 columns</p>\n",
       "</div>"
      ],
      "text/plain": [
       "        gender  Age  Height  pre.weight  Diet  weight6weeks\n",
       "Person                                                     \n",
       "1          0.0   22     159          58     1          54.2\n",
       "2          0.0   46     192          60     1          54.0\n",
       "3          0.0   55     170          64     1          63.3\n",
       "4          0.0   33     171          64     1          61.1\n",
       "5          0.0   50     170          65     1          62.2\n",
       "...        ...  ...     ...         ...   ...           ...\n",
       "74         1.0   35     183          83     3          80.2\n",
       "75         1.0   49     177          84     3          79.9\n",
       "76         1.0   28     164          85     3          79.7\n",
       "77         1.0   40     167          87     3          77.8\n",
       "78         1.0   51     175          88     3          81.9\n",
       "\n",
       "[76 rows x 6 columns]"
      ]
     },
     "execution_count": 6,
     "metadata": {},
     "output_type": "execute_result"
    }
   ],
   "source": [
    "# Sắp xếp index \n",
    "\n",
    "t = rm.set_index('Person')\n",
    "data_new = t.sort_index()\n",
    "data_new"
   ]
  },
  {
   "cell_type": "code",
   "execution_count": 7,
   "id": "returning-cooperation",
   "metadata": {},
   "outputs": [
    {
     "name": "stdout",
     "output_type": "stream",
     "text": [
      "<class 'pandas.core.frame.DataFrame'>\n",
      "Int64Index: 76 entries, 1 to 78\n",
      "Data columns (total 6 columns):\n",
      " #   Column        Non-Null Count  Dtype  \n",
      "---  ------        --------------  -----  \n",
      " 0   gender        76 non-null     float64\n",
      " 1   Age           76 non-null     int64  \n",
      " 2   Height        76 non-null     int64  \n",
      " 3   pre.weight    76 non-null     int64  \n",
      " 4   Diet          76 non-null     int64  \n",
      " 5   weight6weeks  76 non-null     float64\n",
      "dtypes: float64(2), int64(4)\n",
      "memory usage: 4.2 KB\n"
     ]
    }
   ],
   "source": [
    "data_new.info()"
   ]
  },
  {
   "cell_type": "markdown",
   "id": "neither-house",
   "metadata": {},
   "source": [
    "## TASK 1: Ignore diet and test to see if weight has been lost\n"
   ]
  },
  {
   "cell_type": "markdown",
   "id": "confirmed-coast",
   "metadata": {},
   "source": [
    "## Phát biểu giả thiết\n",
    "Phát biểu giả thiết:\n",
    "\n",
    "H0 : μ0=μ1 . Cân nặng trung bình của trước và sau khi giảm cân là như nhau\n",
    "\n",
    "H1 : μ0≠μ1 . Cân nặng trung bình của trước và sau khi giảm cân khác nhau"
   ]
  },
  {
   "cell_type": "code",
   "execution_count": 8,
   "id": "complimentary-skating",
   "metadata": {},
   "outputs": [],
   "source": [
    "pre_w = data_new['pre.weight']\n",
    "aft_w = data_new['weight6weeks']"
   ]
  },
  {
   "cell_type": "code",
   "execution_count": 9,
   "id": "adjusted-ordinary",
   "metadata": {},
   "outputs": [
    {
     "name": "stdout",
     "output_type": "stream",
     "text": [
      "Giá trị kiểm định =  3.0342255247628476\n",
      "pvalue  =  0.0028431949414180584\n",
      "Đã có đủ bằng chứng thống kê để bác bỏ H0\n",
      "Ta chấp nhận giả thiết Ha với mực ý nghĩa là 5%\n",
      "Cân nặng trung bình của trước và sau khi giảm cân khác nhau\n"
     ]
    }
   ],
   "source": [
    "stt, p = stats.ttest_ind(pre_w, aft_w)\n",
    "print('Giá trị kiểm định = ',stt)\n",
    "print('pvalue  = ',p)\n",
    "if (p > 0.05):\n",
    "    print(\"Không có bằng chứng thống kê để bác bỏ H0 \")\n",
    "    print('Điều này ngụ ý là: 𝜇0=𝜇1 . Cân nặng trung bình của trước và sau khi giảm cân là như nhau với mức ý nghĩa 5% ')\n",
    "else:\n",
    "    print('Đã có đủ bằng chứng thống kê để bác bỏ H0')\n",
    "    print('Ta chấp nhận giả thiết Ha với mực ý nghĩa là 5%')\n",
    "    print('Cân nặng trung bình của trước và sau khi giảm cân khác nhau')"
   ]
  },
  {
   "cell_type": "markdown",
   "id": "joint-czech",
   "metadata": {},
   "source": [
    "## Task 2: Remove weight lost and get students to calculate it using before/after weights"
   ]
  },
  {
   "cell_type": "code",
   "execution_count": 10,
   "id": "greek-technology",
   "metadata": {},
   "outputs": [
    {
     "data": {
      "text/html": [
       "<div>\n",
       "<style scoped>\n",
       "    .dataframe tbody tr th:only-of-type {\n",
       "        vertical-align: middle;\n",
       "    }\n",
       "\n",
       "    .dataframe tbody tr th {\n",
       "        vertical-align: top;\n",
       "    }\n",
       "\n",
       "    .dataframe thead th {\n",
       "        text-align: right;\n",
       "    }\n",
       "</style>\n",
       "<table border=\"1\" class=\"dataframe\">\n",
       "  <thead>\n",
       "    <tr style=\"text-align: right;\">\n",
       "      <th></th>\n",
       "      <th>gender</th>\n",
       "      <th>Age</th>\n",
       "      <th>Height</th>\n",
       "      <th>pre.weight</th>\n",
       "      <th>Diet</th>\n",
       "      <th>weight6weeks</th>\n",
       "      <th>weightlost</th>\n",
       "    </tr>\n",
       "    <tr>\n",
       "      <th>Person</th>\n",
       "      <th></th>\n",
       "      <th></th>\n",
       "      <th></th>\n",
       "      <th></th>\n",
       "      <th></th>\n",
       "      <th></th>\n",
       "      <th></th>\n",
       "    </tr>\n",
       "  </thead>\n",
       "  <tbody>\n",
       "    <tr>\n",
       "      <th>1</th>\n",
       "      <td>0.0</td>\n",
       "      <td>22</td>\n",
       "      <td>159</td>\n",
       "      <td>58</td>\n",
       "      <td>1</td>\n",
       "      <td>54.2</td>\n",
       "      <td>3.8</td>\n",
       "    </tr>\n",
       "    <tr>\n",
       "      <th>2</th>\n",
       "      <td>0.0</td>\n",
       "      <td>46</td>\n",
       "      <td>192</td>\n",
       "      <td>60</td>\n",
       "      <td>1</td>\n",
       "      <td>54.0</td>\n",
       "      <td>6.0</td>\n",
       "    </tr>\n",
       "    <tr>\n",
       "      <th>3</th>\n",
       "      <td>0.0</td>\n",
       "      <td>55</td>\n",
       "      <td>170</td>\n",
       "      <td>64</td>\n",
       "      <td>1</td>\n",
       "      <td>63.3</td>\n",
       "      <td>0.7</td>\n",
       "    </tr>\n",
       "    <tr>\n",
       "      <th>4</th>\n",
       "      <td>0.0</td>\n",
       "      <td>33</td>\n",
       "      <td>171</td>\n",
       "      <td>64</td>\n",
       "      <td>1</td>\n",
       "      <td>61.1</td>\n",
       "      <td>2.9</td>\n",
       "    </tr>\n",
       "    <tr>\n",
       "      <th>5</th>\n",
       "      <td>0.0</td>\n",
       "      <td>50</td>\n",
       "      <td>170</td>\n",
       "      <td>65</td>\n",
       "      <td>1</td>\n",
       "      <td>62.2</td>\n",
       "      <td>2.8</td>\n",
       "    </tr>\n",
       "    <tr>\n",
       "      <th>6</th>\n",
       "      <td>0.0</td>\n",
       "      <td>50</td>\n",
       "      <td>201</td>\n",
       "      <td>66</td>\n",
       "      <td>1</td>\n",
       "      <td>64.0</td>\n",
       "      <td>2.0</td>\n",
       "    </tr>\n",
       "    <tr>\n",
       "      <th>7</th>\n",
       "      <td>0.0</td>\n",
       "      <td>37</td>\n",
       "      <td>174</td>\n",
       "      <td>67</td>\n",
       "      <td>1</td>\n",
       "      <td>65.0</td>\n",
       "      <td>2.0</td>\n",
       "    </tr>\n",
       "    <tr>\n",
       "      <th>8</th>\n",
       "      <td>0.0</td>\n",
       "      <td>28</td>\n",
       "      <td>176</td>\n",
       "      <td>69</td>\n",
       "      <td>1</td>\n",
       "      <td>60.5</td>\n",
       "      <td>8.5</td>\n",
       "    </tr>\n",
       "    <tr>\n",
       "      <th>9</th>\n",
       "      <td>0.0</td>\n",
       "      <td>28</td>\n",
       "      <td>165</td>\n",
       "      <td>70</td>\n",
       "      <td>1</td>\n",
       "      <td>68.1</td>\n",
       "      <td>1.9</td>\n",
       "    </tr>\n",
       "    <tr>\n",
       "      <th>10</th>\n",
       "      <td>0.0</td>\n",
       "      <td>45</td>\n",
       "      <td>165</td>\n",
       "      <td>70</td>\n",
       "      <td>1</td>\n",
       "      <td>66.9</td>\n",
       "      <td>3.1</td>\n",
       "    </tr>\n",
       "  </tbody>\n",
       "</table>\n",
       "</div>"
      ],
      "text/plain": [
       "        gender  Age  Height  pre.weight  Diet  weight6weeks  weightlost\n",
       "Person                                                                 \n",
       "1          0.0   22     159          58     1          54.2         3.8\n",
       "2          0.0   46     192          60     1          54.0         6.0\n",
       "3          0.0   55     170          64     1          63.3         0.7\n",
       "4          0.0   33     171          64     1          61.1         2.9\n",
       "5          0.0   50     170          65     1          62.2         2.8\n",
       "6          0.0   50     201          66     1          64.0         2.0\n",
       "7          0.0   37     174          67     1          65.0         2.0\n",
       "8          0.0   28     176          69     1          60.5         8.5\n",
       "9          0.0   28     165          70     1          68.1         1.9\n",
       "10         0.0   45     165          70     1          66.9         3.1"
      ]
     },
     "execution_count": 10,
     "metadata": {},
     "output_type": "execute_result"
    }
   ],
   "source": [
    "#Thêm cột dữ liệu weight lost\n",
    "lw = pre_w- aft_w\n",
    "data_new.insert(6, 'weightlost', lw)\n",
    "data_new.head(10)"
   ]
  },
  {
   "cell_type": "code",
   "execution_count": 11,
   "id": "understanding-portal",
   "metadata": {},
   "outputs": [
    {
     "data": {
      "text/plain": [
       "Text(0.5, 1.0, 'Truoc va sau khi giam can')"
      ]
     },
     "execution_count": 11,
     "metadata": {},
     "output_type": "execute_result"
    },
    {
     "data": {
      "image/png": "[encoded data removed]",
      "text/plain": [
       "<Figure size 800x550 with 1 Axes>"
      ]
     },
     "metadata": {},
     "output_type": "display_data"
    }
   ],
   "source": [
    "# Biểu đồ cân nặng trước và sau khi giảm cân\n",
    "plt.style.use('seaborn')\n",
    "data_new[['pre.weight', 'weight6weeks']].plot(color= ['r', 'b'])\n",
    "plt.title('Truoc va sau khi giam can', fontsize=20)"
   ]
  },
  {
   "cell_type": "code",
   "execution_count": 12,
   "id": "material-macintosh",
   "metadata": {},
   "outputs": [
    {
     "name": "stdout",
     "output_type": "stream",
     "text": [
      "statistic: 3.0342255247628476  p_value: 0.0028431949414180584\n",
      "Có đủ bằng chứng thống kê để bác bỏ giả thuyết H0\n"
     ]
    }
   ],
   "source": [
    "std1, p1 = scipy.stats.ttest_ind(pre_w, aft_w)\n",
    "print('statistic:',std1,' p_value:',p1)\n",
    "if p1 < 0.05:\n",
    "    print('Có đủ bằng chứng thống kê để bác bỏ giả thuyết H0')\n",
    "else:\n",
    "    print('Chưa có đủ bằng chứng thống kê để bác bỏ giả thuyết H0')"
   ]
  },
  {
   "cell_type": "markdown",
   "id": "forward-venice",
   "metadata": {},
   "source": [
    "## Task 3: Summary statistics by diet"
   ]
  },
  {
   "cell_type": "code",
   "execution_count": 13,
   "id": "color-republican",
   "metadata": {},
   "outputs": [
    {
     "data": {
      "text/html": [
       "<div>\n",
       "<style scoped>\n",
       "    .dataframe tbody tr th:only-of-type {\n",
       "        vertical-align: middle;\n",
       "    }\n",
       "\n",
       "    .dataframe tbody tr th {\n",
       "        vertical-align: top;\n",
       "    }\n",
       "\n",
       "    .dataframe thead th {\n",
       "        text-align: right;\n",
       "    }\n",
       "</style>\n",
       "<table border=\"1\" class=\"dataframe\">\n",
       "  <thead>\n",
       "    <tr style=\"text-align: right;\">\n",
       "      <th></th>\n",
       "      <th>số người</th>\n",
       "      <th>%</th>\n",
       "    </tr>\n",
       "    <tr>\n",
       "      <th>Diet</th>\n",
       "      <th></th>\n",
       "      <th></th>\n",
       "    </tr>\n",
       "  </thead>\n",
       "  <tbody>\n",
       "    <tr>\n",
       "      <th>1</th>\n",
       "      <td>24</td>\n",
       "      <td>30.769231</td>\n",
       "    </tr>\n",
       "    <tr>\n",
       "      <th>2</th>\n",
       "      <td>27</td>\n",
       "      <td>34.615385</td>\n",
       "    </tr>\n",
       "    <tr>\n",
       "      <th>3</th>\n",
       "      <td>27</td>\n",
       "      <td>34.615385</td>\n",
       "    </tr>\n",
       "  </tbody>\n",
       "</table>\n",
       "</div>"
      ],
      "text/plain": [
       "      số người          %\n",
       "Diet                     \n",
       "1           24  30.769231\n",
       "2           27  34.615385\n",
       "3           27  34.615385"
      ]
     },
     "execution_count": 13,
     "metadata": {},
     "output_type": "execute_result"
    }
   ],
   "source": [
    "x= df.groupby('Diet')['Diet'].count()\n",
    "y = pd.DataFrame(x)\n",
    "y.columns=[\"số người\"]\n",
    "y['%']=y/sum(y['số người'])*100\n",
    "y"
   ]
  },
  {
   "cell_type": "code",
   "execution_count": 14,
   "id": "white-gates",
   "metadata": {},
   "outputs": [
    {
     "name": "stdout",
     "output_type": "stream",
     "text": [
      "count    24.000000\n",
      "mean      3.300000\n",
      "std       2.240148\n",
      "min      -0.600000\n",
      "25%       1.975000\n",
      "50%       3.050000\n",
      "75%       3.950000\n",
      "max       9.000000\n",
      "Name: Diet Type 1, dtype: float64\n",
      "count    25.000000\n",
      "mean      3.268000\n",
      "std       2.464535\n",
      "min      -2.100000\n",
      "25%       2.000000\n",
      "50%       3.500000\n",
      "75%       4.700000\n",
      "max       7.900000\n",
      "Name: Diet Type 2, dtype: float64\n",
      "count    27.000000\n",
      "mean      5.148148\n",
      "std       2.395568\n",
      "min       0.500000\n",
      "25%       3.450000\n",
      "50%       5.400000\n",
      "75%       7.000000\n",
      "max       9.200000\n",
      "Name: Diet Type 3, dtype: float64\n"
     ]
    }
   ],
   "source": [
    "# Lấy=\"Diet\" và \"lostweight\" để phân tích \n",
    "\n",
    "Dl = data_new[['Diet', 'weightlost']]\n",
    "diet = data_new.groupby('Diet').groups\n",
    "\n",
    "type_1 = data_new['weightlost'][diet[1]]\n",
    "type_1.name = 'Diet Type 1'\n",
    "type_2 = data_new['weightlost'][diet[2]]\n",
    "type_2.name = 'Diet Type 2'\n",
    "type_3 = data_new['weightlost'][diet[3]]\n",
    "type_3.name = 'Diet Type 3'\n",
    "print(type_1.describe())\n",
    "print(type_2.describe())\n",
    "print(type_3.describe())"
   ]
  },
  {
   "cell_type": "markdown",
   "id": "daily-sugar",
   "metadata": {},
   "source": [
    "## Task 4: One way ANOVA\n"
   ]
  },
  {
   "cell_type": "markdown",
   "id": "weekly-browser",
   "metadata": {},
   "source": [
    "## Sử dụng Shapiro-Wilk test\n",
    "## Phát biểu giả thiết:\n",
    "$H_0$: Diet type 1 là dữ liệu tuân theo phân phối chuẩn\n",
    "\n",
    "$H_1$: Diet type 1 không phải là dữ liệu tuân theo phân phối chuẩn"
   ]
  },
  {
   "cell_type": "code",
   "execution_count": 16,
   "id": "vanilla-radiation",
   "metadata": {},
   "outputs": [
    {
     "name": "stdout",
     "output_type": "stream",
     "text": [
      "statistic of Diet type 1 =  0.9255314469337463\n",
      "pvalue of Diet type 1 =  0.07748671621084213\n",
      "Không có bằng chứng để bác bỏ H0: \n",
      "Điều này ngụ ý là Diet type 1 là dữ liệu tuân theo phân phối chuẩn với mức ý nghĩa 5% \n",
      "Đủ điều kiện để phân tích tiếp\n"
     ]
    }
   ],
   "source": [
    "st1, p1 = stats.shapiro(type_1)\n",
    "print('statistic of Diet type 1 = ',st1)\n",
    "print('pvalue of Diet type 1 = ',p1)\n",
    "if (p1 > 0.05):\n",
    "    print(\"Không có bằng chứng để bác bỏ H0: \")\n",
    "    print('Điều này ngụ ý là Diet type 1 là dữ liệu tuân theo phân phối chuẩn với mức ý nghĩa 5% ')\n",
    "    print('Đủ điều kiện để phân tích tiếp')\n",
    "else:\n",
    "    print('đã có đủ bằng chứng để bác bỏ H0')\n",
    "    print('ta chấp nhận giả thiết Ha với mực ý nghĩa là 5%')\n",
    "    print('Diet type 1 không phải là dữ liệu tuân theo phân phối chuẩn')"
   ]
  },
  {
   "cell_type": "markdown",
   "id": "powered-boulder",
   "metadata": {},
   "source": [
    "## Phát biểu giả thiết:\n",
    "$H_0$: Diet type 2 là dữ liệu tuân theo phân phối chuẩn\n",
    "\n",
    "$H_1$: Diet type 2 không phải là dữ liệu tuân theo phân phối chuẩn"
   ]
  },
  {
   "cell_type": "code",
   "execution_count": 17,
   "id": "painted-fault",
   "metadata": {},
   "outputs": [
    {
     "name": "stdout",
     "output_type": "stream",
     "text": [
      "statistic of Diet type 2 =  0.9793620705604553\n",
      "pvalue of Diet type 2 =  0.8721737861633301\n",
      "Không có bằng chứng để bác bỏ H0 \n",
      "Điều này ngụ ý là Diet type 2 là dữ liệu tuân theo phân phối chuẩn với mức ý nghĩa 5% \n",
      "Đủ điều kiện để phân tích tiếp\n"
     ]
    }
   ],
   "source": [
    "st2, p2 = stats.shapiro(type_2)\n",
    "print('statistic of Diet type 2 = ',st2)\n",
    "print('pvalue of Diet type 2 = ',p2)\n",
    "if (p2 > 0.05):\n",
    "    print(\"Không có bằng chứng để bác bỏ H0 \")\n",
    "    print('Điều này ngụ ý là Diet type 2 là dữ liệu tuân theo phân phối chuẩn với mức ý nghĩa 5% ')\n",
    "    print('Đủ điều kiện để phân tích tiếp')\n",
    "else:\n",
    "    print('đã có đủ bằng chứng để bác bỏ H0')\n",
    "    print('ta chấp nhận giả thiết Ha với mực ý nghĩa là 5%')\n",
    "    print('Diet type 2 không phải là dữ liệu tuân theo phân phối chuẩn')"
   ]
  },
  {
   "cell_type": "markdown",
   "id": "architectural-wrong",
   "metadata": {},
   "source": [
    "## Phát biểu giả thiết:\n",
    "$H_0$: Diet type 3 là dữ liệu tuân theo phân phối chuẩn\n",
    "\n",
    "$H_1$: Diet type 3 không phải là dữ liệu tuân theo phân phối chuẩn"
   ]
  },
  {
   "cell_type": "code",
   "execution_count": 18,
   "id": "naked-cocktail",
   "metadata": {},
   "outputs": [
    {
     "name": "stdout",
     "output_type": "stream",
     "text": [
      "statistic of Diet type 3 =  0.9601252675056458\n",
      "pvalue of Diet type 13 =  0.37203603982925415\n",
      "Không có bằng chứng để bác bỏ H0\n",
      "Điều này ngụ ý là: Diet type 3 là dữ liệu tuân theo phân phối chuẩn với mức ý nghĩa 5%\n",
      "Đủ điều kiện để phân tích tiếp\n"
     ]
    }
   ],
   "source": [
    "st3, p3 = stats.shapiro(type_3)\n",
    "print('statistic of Diet type 3 = ',st3)\n",
    "print('pvalue of Diet type 13 = ',p3)\n",
    "if (p3 > 0.05):\n",
    "    print(\"Không có bằng chứng để bác bỏ H0\")\n",
    "    print('Điều này ngụ ý là: Diet type 3 là dữ liệu tuân theo phân phối chuẩn với mức ý nghĩa 5%')\n",
    "    print('Đủ điều kiện để phân tích tiếp')\n",
    "else:\n",
    "    print('đã có đủ bằng chứng để bác bỏ H0')\n",
    "    print('ta chấp nhận giả thiết Ha với mực ý nghĩa là 5%')\n",
    "    print('Diet type 3 không phải là dữ liệu tuân theo phân phối chuẩn')"
   ]
  },
  {
   "cell_type": "markdown",
   "id": "double-intervention",
   "metadata": {},
   "source": [
    "## Kiểm định tính thuần nhất phương sai\n",
    "\n",
    "Bartlett’s Test\n",
    "\n",
    "Phát biểu các giả thiết:\n",
    "\n",
    "$H_0$: Các feature đều có phương sai đồng nhất\n",
    "\n",
    "$H_1$: Có ít nhất 2 feature có phương sai khác nhau (lớn)\n",
    "\n",
    "Chú ý: Nếu p < 0.05 = $\\alpha$ thì loại giả thiết $H_0$. Tức là các feature không đồng nhất về phương sai."
   ]
  },
  {
   "cell_type": "code",
   "execution_count": 20,
   "id": "balanced-moldova",
   "metadata": {},
   "outputs": [
    {
     "name": "stdout",
     "output_type": "stream",
     "text": [
      "statistic by Bartlett =  0.21811133918795061\n",
      "pvalue by Bartlett =  0.8966804982694925\n",
      "Không có bằng chứng để bác bỏ H0\n",
      "Điều này ngụ ý Các mẫu có phương sai giống nhau\n",
      "Đủ điều kiện đê phân tích ANOVA\n"
     ]
    }
   ],
   "source": [
    "st13, p13 = stats.bartlett(type_1, type_2, type_3)\n",
    "print('statistic by Bartlett = ',st13)\n",
    "print('pvalue by Bartlett = ',p13)\n",
    "if (p13 > 0.05):\n",
    "    print('Không có bằng chứng để bác bỏ H0')\n",
    "    print('Điều này ngụ ý Các mẫu có phương sai giống nhau')\n",
    "    print('Đủ điều kiện đê phân tích ANOVA')\n",
    "else:\n",
    "    print('Đã có đủ bằng chứng để bác bỏ giả thuyết Ho')\n",
    "    print('Ta chấp nhận giả thuyết Ha với mức ý nghĩa là 5%:')\n",
    "    print('Có ít nhất 2 feature có phương sai khác nhau')"
   ]
  },
  {
   "cell_type": "markdown",
   "id": "turned-paint",
   "metadata": {},
   "source": [
    "## Kiểm định ANOVA one way\n",
    "## Phát biểu giả thiết:\n",
    "$H_{0}: \\mu_{1} = \\mu_{2} = \\mu_{3}$\n",
    "\n",
    "$H_{a}: \\text{Có tối thiểu một cặp giá trị trung bình có giá trị khác nhau}$"
   ]
  },
  {
   "cell_type": "code",
   "execution_count": 21,
   "id": "selected-panic",
   "metadata": {},
   "outputs": [
    {
     "name": "stdout",
     "output_type": "stream",
     "text": [
      "Giá trị kiểm định:  5.383104474859926\n",
      "p_value:  0.006595853108669741\n",
      "Có bằng chứng bác bỏ giả thuyết H0\n"
     ]
    }
   ],
   "source": [
    "from scipy.stats import f_oneway\n",
    "st, p = f_oneway(type_1, type_2, type_3)\n",
    "alpha = 0.05\n",
    "print('Giá trị kiểm định: ',st)\n",
    "print('p_value: ',p)\n",
    "if (p < alpha):\n",
    "    print('Có bằng chứng bác bỏ giả thuyết H0')\n",
    "else:\n",
    "    print(\"Không đủ bằng chứng bác bỏ giả thuyết H0.\")\n",
    "    print(\"Với mức ý nghĩa 5%: \")\n",
    "    print(\"Điều này ngụ ý rằng hiệu quả giữa các phương pháp không có sự khác biệt\")"
   ]
  },
  {
   "cell_type": "code",
   "execution_count": 22,
   "id": "fossil-pressing",
   "metadata": {},
   "outputs": [
    {
     "data": {
      "text/plain": [
       "Text(0, 0.5, 'Count')"
      ]
     },
     "execution_count": 22,
     "metadata": {},
     "output_type": "execute_result"
    },
    {
     "data": {
      "image/png": "[encoded data removed]",
      "text/plain": [
       "<Figure size 800x550 with 1 Axes>"
      ]
     },
     "metadata": {},
     "output_type": "display_data"
    }
   ],
   "source": [
    "plt.title('3 diet ', fontsize=20)\n",
    "pd.DataFrame({'Type_1': type_1, 'Type_2': type_2, 'Type_3': type_3}).boxplot()\n",
    "plt.ylabel('Count', fontsize=15)"
   ]
  },
  {
   "cell_type": "markdown",
   "id": "geographic-problem",
   "metadata": {},
   "source": [
    "## Kiểm tra các điều kiện cho kiểm định Anova"
   ]
  },
  {
   "cell_type": "code",
   "execution_count": 23,
   "id": "clinical-meditation",
   "metadata": {},
   "outputs": [
    {
     "data": {
      "text/html": [
       "<div>\n",
       "<style scoped>\n",
       "    .dataframe tbody tr th:only-of-type {\n",
       "        vertical-align: middle;\n",
       "    }\n",
       "\n",
       "    .dataframe tbody tr th {\n",
       "        vertical-align: top;\n",
       "    }\n",
       "\n",
       "    .dataframe thead th {\n",
       "        text-align: right;\n",
       "    }\n",
       "</style>\n",
       "<table border=\"1\" class=\"dataframe\">\n",
       "  <thead>\n",
       "    <tr style=\"text-align: right;\">\n",
       "      <th></th>\n",
       "      <th>sum_sq</th>\n",
       "      <th>df</th>\n",
       "      <th>F</th>\n",
       "      <th>PR(&gt;F)</th>\n",
       "    </tr>\n",
       "  </thead>\n",
       "  <tbody>\n",
       "    <tr>\n",
       "      <th>C(Diet)</th>\n",
       "      <td>60.527008</td>\n",
       "      <td>2.0</td>\n",
       "      <td>5.383104</td>\n",
       "      <td>0.006596</td>\n",
       "    </tr>\n",
       "    <tr>\n",
       "      <th>Residual</th>\n",
       "      <td>410.401807</td>\n",
       "      <td>73.0</td>\n",
       "      <td>NaN</td>\n",
       "      <td>NaN</td>\n",
       "    </tr>\n",
       "  </tbody>\n",
       "</table>\n",
       "</div>"
      ],
      "text/plain": [
       "              sum_sq    df         F    PR(>F)\n",
       "C(Diet)    60.527008   2.0  5.383104  0.006596\n",
       "Residual  410.401807  73.0       NaN       NaN"
      ]
     },
     "execution_count": 23,
     "metadata": {},
     "output_type": "execute_result"
    }
   ],
   "source": [
    "model = ols('weightlost ~ C(Diet)', data = data_new).fit()\n",
    "aov_table = sm.stats.anova_lm(model, typ=2)\n",
    "aov_table"
   ]
  },
  {
   "cell_type": "markdown",
   "id": "polished-underwear",
   "metadata": {},
   "source": [
    "##  Are there gender differences for weight lost?\n",
    "\n",
    "Xây dựng giả thuyết:\n",
    "\n",
    "$H_0:$ Khả năng giảm cân phụ thuộc vào giới tính\n",
    "\n",
    "$H_0:$ Khả năng giảm cân không phụ thuộc vào giới tính"
   ]
  },
  {
   "cell_type": "code",
   "execution_count": 25,
   "id": "polyphonic-roman",
   "metadata": {},
   "outputs": [
    {
     "data": {
      "text/html": [
       "<div>\n",
       "<style scoped>\n",
       "    .dataframe tbody tr th:only-of-type {\n",
       "        vertical-align: middle;\n",
       "    }\n",
       "\n",
       "    .dataframe tbody tr th {\n",
       "        vertical-align: top;\n",
       "    }\n",
       "\n",
       "    .dataframe thead th {\n",
       "        text-align: right;\n",
       "    }\n",
       "</style>\n",
       "<table border=\"1\" class=\"dataframe\">\n",
       "  <thead>\n",
       "    <tr style=\"text-align: right;\">\n",
       "      <th></th>\n",
       "      <th>gender</th>\n",
       "      <th>weightlost</th>\n",
       "    </tr>\n",
       "    <tr>\n",
       "      <th>Person</th>\n",
       "      <th></th>\n",
       "      <th></th>\n",
       "    </tr>\n",
       "  </thead>\n",
       "  <tbody>\n",
       "    <tr>\n",
       "      <th>1</th>\n",
       "      <td>0.0</td>\n",
       "      <td>3.8</td>\n",
       "    </tr>\n",
       "    <tr>\n",
       "      <th>2</th>\n",
       "      <td>0.0</td>\n",
       "      <td>6.0</td>\n",
       "    </tr>\n",
       "    <tr>\n",
       "      <th>3</th>\n",
       "      <td>0.0</td>\n",
       "      <td>0.7</td>\n",
       "    </tr>\n",
       "    <tr>\n",
       "      <th>4</th>\n",
       "      <td>0.0</td>\n",
       "      <td>2.9</td>\n",
       "    </tr>\n",
       "    <tr>\n",
       "      <th>5</th>\n",
       "      <td>0.0</td>\n",
       "      <td>2.8</td>\n",
       "    </tr>\n",
       "    <tr>\n",
       "      <th>...</th>\n",
       "      <td>...</td>\n",
       "      <td>...</td>\n",
       "    </tr>\n",
       "    <tr>\n",
       "      <th>74</th>\n",
       "      <td>1.0</td>\n",
       "      <td>2.8</td>\n",
       "    </tr>\n",
       "    <tr>\n",
       "      <th>75</th>\n",
       "      <td>1.0</td>\n",
       "      <td>4.1</td>\n",
       "    </tr>\n",
       "    <tr>\n",
       "      <th>76</th>\n",
       "      <td>1.0</td>\n",
       "      <td>5.3</td>\n",
       "    </tr>\n",
       "    <tr>\n",
       "      <th>77</th>\n",
       "      <td>1.0</td>\n",
       "      <td>9.2</td>\n",
       "    </tr>\n",
       "    <tr>\n",
       "      <th>78</th>\n",
       "      <td>1.0</td>\n",
       "      <td>6.1</td>\n",
       "    </tr>\n",
       "  </tbody>\n",
       "</table>\n",
       "<p>76 rows × 2 columns</p>\n",
       "</div>"
      ],
      "text/plain": [
       "        gender  weightlost\n",
       "Person                    \n",
       "1          0.0         3.8\n",
       "2          0.0         6.0\n",
       "3          0.0         0.7\n",
       "4          0.0         2.9\n",
       "5          0.0         2.8\n",
       "...        ...         ...\n",
       "74         1.0         2.8\n",
       "75         1.0         4.1\n",
       "76         1.0         5.3\n",
       "77         1.0         9.2\n",
       "78         1.0         6.1\n",
       "\n",
       "[76 rows x 2 columns]"
      ]
     },
     "execution_count": 25,
     "metadata": {},
     "output_type": "execute_result"
    }
   ],
   "source": [
    "df = data_new[['gender', 'weightlost']]\n",
    "df"
   ]
  },
  {
   "cell_type": "markdown",
   "id": "comprehensive-inclusion",
   "metadata": {},
   "source": [
    "## Summary statistics"
   ]
  },
  {
   "cell_type": "code",
   "execution_count": 26,
   "id": "basic-petroleum",
   "metadata": {},
   "outputs": [
    {
     "data": {
      "text/html": [
       "<div>\n",
       "<style scoped>\n",
       "    .dataframe tbody tr th:only-of-type {\n",
       "        vertical-align: middle;\n",
       "    }\n",
       "\n",
       "    .dataframe tbody tr th {\n",
       "        vertical-align: top;\n",
       "    }\n",
       "\n",
       "    .dataframe thead th {\n",
       "        text-align: right;\n",
       "    }\n",
       "</style>\n",
       "<table border=\"1\" class=\"dataframe\">\n",
       "  <thead>\n",
       "    <tr style=\"text-align: right;\">\n",
       "      <th></th>\n",
       "      <th>Số người</th>\n",
       "      <th>Phần trăm</th>\n",
       "    </tr>\n",
       "    <tr>\n",
       "      <th>gender</th>\n",
       "      <th></th>\n",
       "      <th></th>\n",
       "    </tr>\n",
       "  </thead>\n",
       "  <tbody>\n",
       "    <tr>\n",
       "      <th>0.0</th>\n",
       "      <td>43</td>\n",
       "      <td>56.578947</td>\n",
       "    </tr>\n",
       "    <tr>\n",
       "      <th>1.0</th>\n",
       "      <td>33</td>\n",
       "      <td>43.421053</td>\n",
       "    </tr>\n",
       "  </tbody>\n",
       "</table>\n",
       "</div>"
      ],
      "text/plain": [
       "        Số người  Phần trăm\n",
       "gender                     \n",
       "0.0           43  56.578947\n",
       "1.0           33  43.421053"
      ]
     },
     "execution_count": 26,
     "metadata": {},
     "output_type": "execute_result"
    }
   ],
   "source": [
    "# Bảng tần số\n",
    "gen = df.groupby('gender')['gender'].count()\n",
    "gend = pd.DataFrame(gen)\n",
    "gend.columns = ['Số người']\n",
    "gend['Phần trăm'] = gend/sum(gend['Số người'])*100\n",
    "gend"
   ]
  },
  {
   "cell_type": "code",
   "execution_count": 30,
   "id": "presidential-franklin",
   "metadata": {},
   "outputs": [],
   "source": [
    "# Nhóm các mẫu\n",
    "gr = df.groupby('gender').groups\n",
    "fema = df['weightlost'][gr[0]]\n",
    "fema.name = 'Female'\n",
    "ma = df['weightlost'][gr[1]]\n",
    "ma.name = 'Male'"
   ]
  },
  {
   "cell_type": "markdown",
   "id": "essential-cinema",
   "metadata": {},
   "source": [
    "## Bởi 2 mẫu có kích thước không bằng nhau nên ta lấy ngẫu nhiên 30 giá trị ngẫu nhiên trong mỗi mẫu."
   ]
  },
  {
   "cell_type": "code",
   "execution_count": 31,
   "id": "weird-stretch",
   "metadata": {},
   "outputs": [],
   "source": [
    "female = fema.sample(30)\n",
    "male = ma.sample(30)"
   ]
  },
  {
   "cell_type": "markdown",
   "id": "sophisticated-socket",
   "metadata": {},
   "source": [
    "## Kiểm tra mỗi nhóm có thuộc phân phối chuẩn chưa\n",
    "## Sử dụng Shapiro-Wilk test\n",
    "## Phát biểu giả thiết:\n",
    "$H_0$: female là dữ liệu tuân theo phân phối chuẩn\n",
    "\n",
    "$H_a$: female không phải là dữ liệu tuân theo phân phối chuẩn"
   ]
  },
  {
   "cell_type": "code",
   "execution_count": 34,
   "id": "blind-version",
   "metadata": {},
   "outputs": [
    {
     "name": "stdout",
     "output_type": "stream",
     "text": [
      "statistic of Diet female =  0.9616776704788208\n",
      "pvalue of Diet female =  0.34167546033859253\n",
      "Không có bằng chứng để bác bỏ H0 \n",
      "Điều này ngụ ý là:female là dữ liệu tuân theo phân phối chuẩn với mức ý nghĩa 5% \n",
      "Đủ điều kiện để phân tích tiếp\n"
     ]
    }
   ],
   "source": [
    "stf, pf = stats.shapiro(female)\n",
    "print('statistic of Diet female = ',stf)\n",
    "print('pvalue of Diet female = ',pf)\n",
    "if (pf > 0.05):\n",
    "    print(\"Không có bằng chứng để bác bỏ H0 \")\n",
    "    print('Điều này ngụ ý là:female là dữ liệu tuân theo phân phối chuẩn với mức ý nghĩa 5% ')\n",
    "    print('Đủ điều kiện để phân tích tiếp')\n",
    "else:\n",
    "    print('đã có đủ bằng chứng để bác bỏ H0')\n",
    "    print('ta chấp nhận giả thiết Ha với mực ý nghĩa là 5%')\n",
    "    print('female không phải là dữ liệu tuân theo phân phối chuẩn')"
   ]
  },
  {
   "cell_type": "markdown",
   "id": "driven-fundamentals",
   "metadata": {},
   "source": [
    "## Phát biểu giả thiết:¶\n",
    "$H_0$: male là dữ liệu tuân theo phân phối chuẩn\n",
    "\n",
    "$H_a$: male không phải là dữ liệu tuân theo phân phối chuẩn"
   ]
  },
  {
   "cell_type": "code",
   "execution_count": 35,
   "id": "recreational-assignment",
   "metadata": {},
   "outputs": [
    {
     "name": "stdout",
     "output_type": "stream",
     "text": [
      "statistic of Diet female =  0.9658335447311401\n",
      "pvalue of Diet female =  0.43229156732559204\n",
      "Không có bằng chứng để bác bỏ H0\n",
      "Điều này ngụ ý là male là dữ liệu tuân theo phân phối chuẩn với mức ý nghĩa 5% \n",
      "Đủ điều kiện để phân tích tiếp\n"
     ]
    }
   ],
   "source": [
    "stm, pm = stats.shapiro(male)\n",
    "print('statistic of Diet female = ',stm)\n",
    "print('pvalue of Diet female = ',pm)\n",
    "if (pm > 0.05):\n",
    "    print(\"Không có bằng chứng để bác bỏ H0\")\n",
    "    print('Điều này ngụ ý là male là dữ liệu tuân theo phân phối chuẩn với mức ý nghĩa 5% ')\n",
    "    print('Đủ điều kiện để phân tích tiếp')\n",
    "else:\n",
    "    print('đã có đủ bằng chứng để bác bỏ H0')\n",
    "    print('ta chấp nhận giả thiết Ha với mực ý nghĩa là 5%')\n",
    "    print('male không phải là dữ liệu tuân theo phân phối chuẩn')"
   ]
  },
  {
   "cell_type": "markdown",
   "id": "comparative-series",
   "metadata": {},
   "source": [
    "## Kiểm định tính thuần nhất phương sai (homogeneity of variance)\n",
    "## Bartlett’s Test\n",
    "Phát biểu các giả thiết:\n",
    "\n",
    "$H_0$: Các feature đều có phương sai đồng nhất\n",
    "\n",
    "$H_1$: Có ít nhất 2 feature có phương sai khác nhau (lớn)\n",
    "\n",
    "Chú ý: Nếu p < 0.05 = $\\alpha$ thì loại giả thiết $H_0$. Tức là các feature không đồng nhất về phương sai."
   ]
  },
  {
   "cell_type": "code",
   "execution_count": 36,
   "id": "unnecessary-hartford",
   "metadata": {},
   "outputs": [
    {
     "name": "stdout",
     "output_type": "stream",
     "text": [
      "statistic by Bartlett =  0.5179352625207528\n",
      "pvalue by Bartlett =  0.4717237715681136\n",
      "Không có bằng chứng để bác bỏ H0\n",
      "Điều này ngụ ý Các mẫu có phương sai giống nhau\n",
      "Đủ điều kiện đê phân tích ANOVA\n"
     ]
    }
   ],
   "source": [
    "stfm, pfm = stats.bartlett(female, male)\n",
    "print('statistic by Bartlett = ',stfm)\n",
    "print('pvalue by Bartlett = ',pfm)\n",
    "if (pfm > 0.05):\n",
    "    print('Không có bằng chứng để bác bỏ H0')\n",
    "    print('Điều này ngụ ý Các mẫu có phương sai giống nhau')\n",
    "    print('Đủ điều kiện đê phân tích ANOVA')\n",
    "else:\n",
    "    print('Đã có đủ bằng chứng để bác bỏ giả thuyết Ho')\n",
    "    print('Ta chấp nhận giả thuyết Ha với mức ý nghĩa là 5%:')\n",
    "    print('Có ít nhất 2 feature có phương sai khác nhau')"
   ]
  },
  {
   "cell_type": "markdown",
   "id": "underlying-hostel",
   "metadata": {},
   "source": [
    "## Xây dựng giả thuyết:\n",
    "$H_{0}: \\mu_{1} = \\mu_{2} = \\mu_{3}$\n",
    "\n",
    "$H_{a}: \\text{Có tối thiểu một cặp giá trị trung bình có giá trị khác nhau}$"
   ]
  },
  {
   "cell_type": "code",
   "execution_count": 37,
   "id": "harmful-database",
   "metadata": {},
   "outputs": [
    {
     "name": "stdout",
     "output_type": "stream",
     "text": [
      "Giá trị kiểm định:  5.383104474859926\n",
      "p_value:  0.006595853108669741\n",
      "Có bằng chứng bác bỏ giả thuyết H0\n"
     ]
    }
   ],
   "source": [
    "st, p = f_oneway(type_1, type_2, type_3)\n",
    "alpha = 0.05\n",
    "print('Giá trị kiểm định: ',st)\n",
    "print('p_value: ',p)\n",
    "if (p < alpha):\n",
    "    print('Có bằng chứng bác bỏ giả thuyết H0')\n",
    "else:\n",
    "    print(\"Không đủ bằng chứng bác bỏ giả thuyết H0.\")\n",
    "    print(\"Với mức ý nghĩa 5%: \")"
   ]
  },
  {
   "cell_type": "code",
   "execution_count": 38,
   "id": "typical-rings",
   "metadata": {},
   "outputs": [
    {
     "data": {
      "text/html": [
       "<div>\n",
       "<style scoped>\n",
       "    .dataframe tbody tr th:only-of-type {\n",
       "        vertical-align: middle;\n",
       "    }\n",
       "\n",
       "    .dataframe tbody tr th {\n",
       "        vertical-align: top;\n",
       "    }\n",
       "\n",
       "    .dataframe thead th {\n",
       "        text-align: right;\n",
       "    }\n",
       "</style>\n",
       "<table border=\"1\" class=\"dataframe\">\n",
       "  <thead>\n",
       "    <tr style=\"text-align: right;\">\n",
       "      <th></th>\n",
       "      <th>sum_sq</th>\n",
       "      <th>df</th>\n",
       "      <th>F</th>\n",
       "      <th>PR(&gt;F)</th>\n",
       "    </tr>\n",
       "  </thead>\n",
       "  <tbody>\n",
       "    <tr>\n",
       "      <th>C(gender)</th>\n",
       "      <td>0.278485</td>\n",
       "      <td>1.0</td>\n",
       "      <td>0.043786</td>\n",
       "      <td>0.834827</td>\n",
       "    </tr>\n",
       "    <tr>\n",
       "      <th>Residual</th>\n",
       "      <td>470.650331</td>\n",
       "      <td>74.0</td>\n",
       "      <td>NaN</td>\n",
       "      <td>NaN</td>\n",
       "    </tr>\n",
       "  </tbody>\n",
       "</table>\n",
       "</div>"
      ],
      "text/plain": [
       "               sum_sq    df         F    PR(>F)\n",
       "C(gender)    0.278485   1.0  0.043786  0.834827\n",
       "Residual   470.650331  74.0       NaN       NaN"
      ]
     },
     "execution_count": 38,
     "metadata": {},
     "output_type": "execute_result"
    }
   ],
   "source": [
    "# ANOVA Table\n",
    "model = ols('weightlost ~ C(gender)', data=data_new).fit()\n",
    "aov_table = sm.stats.anova_lm(model, typ=2)\n",
    "aov_table"
   ]
  },
  {
   "cell_type": "code",
   "execution_count": 43,
   "id": "german-bloom",
   "metadata": {},
   "outputs": [
    {
     "data": {
      "image/png": "[encoded data removed]",
      "text/plain": [
       "<Figure size 800x550 with 1 Axes>"
      ]
     },
     "metadata": {},
     "output_type": "display_data"
    }
   ],
   "source": [
    "### Kỹ thuật EDA:\n",
    "df = df.replace(to_replace =[0,1], \n",
    "                            value =['Female','Male'])\n",
    "sns.boxplot(x='gender', y='weightlost', data=data_new, palette='flare')\n",
    "sns.swarmplot(x=\"gender\", y='weightlost', data=data_new, color='red')\n",
    "plt.title('Compare gender',  size=20, color='blue')\n",
    "plt.xticks(size=15)\n",
    "plt.xlabel('Gender',fontsize=15)\n",
    "plt.ylabel('Weight Lost',fontsize=15)\n",
    "plt.show()"
   ]
  },
  {
   "cell_type": "markdown",
   "id": "polish-preparation",
   "metadata": {},
   "source": [
    "## Task5: Two-way ANOVA (perform)\n",
    "Giả thuyết:\n",
    "\n",
    "$H_0$: Hiệu quả giảm cân của nam và nữ là như nhau.\n",
    "\n",
    "$H_1$: Hiệu quả giảm cân của nam và nữ là khác nhau."
   ]
  },
  {
   "cell_type": "code",
   "execution_count": 41,
   "id": "whole-monkey",
   "metadata": {},
   "outputs": [
    {
     "data": {
      "text/html": [
       "<div>\n",
       "<style scoped>\n",
       "    .dataframe tbody tr th:only-of-type {\n",
       "        vertical-align: middle;\n",
       "    }\n",
       "\n",
       "    .dataframe tbody tr th {\n",
       "        vertical-align: top;\n",
       "    }\n",
       "\n",
       "    .dataframe thead th {\n",
       "        text-align: right;\n",
       "    }\n",
       "</style>\n",
       "<table border=\"1\" class=\"dataframe\">\n",
       "  <thead>\n",
       "    <tr style=\"text-align: right;\">\n",
       "      <th></th>\n",
       "      <th>mean1</th>\n",
       "      <th>mean2</th>\n",
       "      <th>score</th>\n",
       "      <th>p_value</th>\n",
       "      <th>KetLuan</th>\n",
       "    </tr>\n",
       "  </thead>\n",
       "  <tbody>\n",
       "    <tr>\n",
       "      <th></th>\n",
       "      <td>3.846667</td>\n",
       "      <td>3.876667</td>\n",
       "      <td>-0.04733</td>\n",
       "      <td>0.962413</td>\n",
       "      <td>Chấp nhận H0 với mức ý nghĩa 0.05</td>\n",
       "    </tr>\n",
       "  </tbody>\n",
       "</table>\n",
       "</div>"
      ],
      "text/plain": [
       "     mean1     mean2    score   p_value                            KetLuan\n",
       "  3.846667  3.876667 -0.04733  0.962413  Chấp nhận H0 với mức ý nghĩa 0.05"
      ]
     },
     "execution_count": 41,
     "metadata": {},
     "output_type": "execute_result"
    }
   ],
   "source": [
    "p = {}\n",
    "\n",
    "def results(p, alpha=0.05):\n",
    "    cols=['mean1', 'mean2', 'score','p_value', 'KetLuan']\n",
    "    if p['p_value'] < alpha:\n",
    "        p['KetLuan'] = f\"Chấp nhận H1 với mức ý nghĩa {alpha}\"\n",
    "    if p['p_value'] >= alpha:\n",
    "        p['KetLuan'] = f\"Chấp nhận H0 với mức ý nghĩa {alpha}\"\n",
    "    df = pd.DataFrame(p, index=[''])\n",
    "    return df[cols]\n",
    "\n",
    "    \n",
    "p['mean1'] = np.mean(female)\n",
    "p['mean2'] = np.mean(male)\n",
    "p['score'], p['p_value'] = stats.ttest_ind(female, male)\n",
    "results(p)"
   ]
  },
  {
   "cell_type": "markdown",
   "id": "productive-truck",
   "metadata": {},
   "source": [
    "## Task 6: Interactions\n",
    "\n",
    "Means plot of weight lost by diet and gender"
   ]
  },
  {
   "cell_type": "code",
   "execution_count": 75,
   "id": "historic-fancy",
   "metadata": {},
   "outputs": [],
   "source": [
    "task6 = data_new[['Diet', 'weightlost', 'gender']]"
   ]
  },
  {
   "cell_type": "code",
   "execution_count": 78,
   "id": "parliamentary-disease",
   "metadata": {},
   "outputs": [
    {
     "data": {
      "text/plain": [
       "Text(0.5, 1.0, 'Means plot of weight lost by diet and gender')"
      ]
     },
     "execution_count": 78,
     "metadata": {},
     "output_type": "execute_result"
    },
    {
     "data": {
      "image/png": "[encoded data removed]",
      "text/plain": [
       "<Figure size 800x550 with 1 Axes>"
      ]
     },
     "metadata": {},
     "output_type": "display_data"
    }
   ],
   "source": [
    "sns.set_theme(style=\"whitegrid\")\n",
    "g=sns.barplot(x=\"Diet\", y=\"weightlost\", hue=\"gender\", data = task6, palette=['black','green'])\n",
    "g.set_xticklabels([\"Type_1\", \"Type_2\", \"Type_3\"])\n",
    "g.set(ylim=(0, 7))\n",
    "plt.title('Means plot of weight lost by diet and gender', size=20, color = 'blue')"
   ]
  },
  {
   "cell_type": "markdown",
   "id": "virgin-bulgarian",
   "metadata": {},
   "source": [
    "## Task 7:  Add height to either ANOVA"
   ]
  },
  {
   "cell_type": "code",
   "execution_count": 70,
   "id": "local-hungary",
   "metadata": {},
   "outputs": [
    {
     "data": {
      "text/html": [
       "<div>\n",
       "<style scoped>\n",
       "    .dataframe tbody tr th:only-of-type {\n",
       "        vertical-align: middle;\n",
       "    }\n",
       "\n",
       "    .dataframe tbody tr th {\n",
       "        vertical-align: top;\n",
       "    }\n",
       "\n",
       "    .dataframe thead th {\n",
       "        text-align: right;\n",
       "    }\n",
       "</style>\n",
       "<table border=\"1\" class=\"dataframe\">\n",
       "  <thead>\n",
       "    <tr style=\"text-align: right;\">\n",
       "      <th></th>\n",
       "      <th>Height</th>\n",
       "      <th>gender</th>\n",
       "      <th>Diet</th>\n",
       "      <th>weightlost</th>\n",
       "    </tr>\n",
       "    <tr>\n",
       "      <th>Person</th>\n",
       "      <th></th>\n",
       "      <th></th>\n",
       "      <th></th>\n",
       "      <th></th>\n",
       "    </tr>\n",
       "  </thead>\n",
       "  <tbody>\n",
       "    <tr>\n",
       "      <th>1</th>\n",
       "      <td>159</td>\n",
       "      <td>0.0</td>\n",
       "      <td>1</td>\n",
       "      <td>3.8</td>\n",
       "    </tr>\n",
       "    <tr>\n",
       "      <th>2</th>\n",
       "      <td>192</td>\n",
       "      <td>0.0</td>\n",
       "      <td>1</td>\n",
       "      <td>6.0</td>\n",
       "    </tr>\n",
       "    <tr>\n",
       "      <th>3</th>\n",
       "      <td>170</td>\n",
       "      <td>0.0</td>\n",
       "      <td>1</td>\n",
       "      <td>0.7</td>\n",
       "    </tr>\n",
       "    <tr>\n",
       "      <th>4</th>\n",
       "      <td>171</td>\n",
       "      <td>0.0</td>\n",
       "      <td>1</td>\n",
       "      <td>2.9</td>\n",
       "    </tr>\n",
       "    <tr>\n",
       "      <th>5</th>\n",
       "      <td>170</td>\n",
       "      <td>0.0</td>\n",
       "      <td>1</td>\n",
       "      <td>2.8</td>\n",
       "    </tr>\n",
       "    <tr>\n",
       "      <th>...</th>\n",
       "      <td>...</td>\n",
       "      <td>...</td>\n",
       "      <td>...</td>\n",
       "      <td>...</td>\n",
       "    </tr>\n",
       "    <tr>\n",
       "      <th>74</th>\n",
       "      <td>183</td>\n",
       "      <td>1.0</td>\n",
       "      <td>3</td>\n",
       "      <td>2.8</td>\n",
       "    </tr>\n",
       "    <tr>\n",
       "      <th>75</th>\n",
       "      <td>177</td>\n",
       "      <td>1.0</td>\n",
       "      <td>3</td>\n",
       "      <td>4.1</td>\n",
       "    </tr>\n",
       "    <tr>\n",
       "      <th>76</th>\n",
       "      <td>164</td>\n",
       "      <td>1.0</td>\n",
       "      <td>3</td>\n",
       "      <td>5.3</td>\n",
       "    </tr>\n",
       "    <tr>\n",
       "      <th>77</th>\n",
       "      <td>167</td>\n",
       "      <td>1.0</td>\n",
       "      <td>3</td>\n",
       "      <td>9.2</td>\n",
       "    </tr>\n",
       "    <tr>\n",
       "      <th>78</th>\n",
       "      <td>175</td>\n",
       "      <td>1.0</td>\n",
       "      <td>3</td>\n",
       "      <td>6.1</td>\n",
       "    </tr>\n",
       "  </tbody>\n",
       "</table>\n",
       "<p>76 rows × 4 columns</p>\n",
       "</div>"
      ],
      "text/plain": [
       "        Height  gender  Diet  weightlost\n",
       "Person                                  \n",
       "1          159     0.0     1         3.8\n",
       "2          192     0.0     1         6.0\n",
       "3          170     0.0     1         0.7\n",
       "4          171     0.0     1         2.9\n",
       "5          170     0.0     1         2.8\n",
       "...        ...     ...   ...         ...\n",
       "74         183     1.0     3         2.8\n",
       "75         177     1.0     3         4.1\n",
       "76         164     1.0     3         5.3\n",
       "77         167     1.0     3         9.2\n",
       "78         175     1.0     3         6.1\n",
       "\n",
       "[76 rows x 4 columns]"
      ]
     },
     "execution_count": 70,
     "metadata": {},
     "output_type": "execute_result"
    }
   ],
   "source": [
    "task7 = data_new[['Height', 'gender', 'Diet', 'weightlost']]\n",
    "task7"
   ]
  },
  {
   "cell_type": "code",
   "execution_count": 73,
   "id": "exact-cross",
   "metadata": {},
   "outputs": [
    {
     "data": {
      "text/html": [
       "<div>\n",
       "<style scoped>\n",
       "    .dataframe tbody tr th:only-of-type {\n",
       "        vertical-align: middle;\n",
       "    }\n",
       "\n",
       "    .dataframe tbody tr th {\n",
       "        vertical-align: top;\n",
       "    }\n",
       "\n",
       "    .dataframe thead th {\n",
       "        text-align: right;\n",
       "    }\n",
       "</style>\n",
       "<table border=\"1\" class=\"dataframe\">\n",
       "  <thead>\n",
       "    <tr style=\"text-align: right;\">\n",
       "      <th></th>\n",
       "      <th>Source</th>\n",
       "      <th>SS</th>\n",
       "      <th>DF</th>\n",
       "      <th>F</th>\n",
       "      <th>p-unc</th>\n",
       "      <th>np2</th>\n",
       "    </tr>\n",
       "  </thead>\n",
       "  <tbody>\n",
       "    <tr>\n",
       "      <th>0</th>\n",
       "      <td>Diet</td>\n",
       "      <td>54.939344</td>\n",
       "      <td>2</td>\n",
       "      <td>4.824629</td>\n",
       "      <td>0.010807</td>\n",
       "      <td>0.118179</td>\n",
       "    </tr>\n",
       "    <tr>\n",
       "      <th>1</th>\n",
       "      <td>Height</td>\n",
       "      <td>0.460119</td>\n",
       "      <td>1</td>\n",
       "      <td>0.080813</td>\n",
       "      <td>0.777015</td>\n",
       "      <td>0.001121</td>\n",
       "    </tr>\n",
       "    <tr>\n",
       "      <th>2</th>\n",
       "      <td>Residual</td>\n",
       "      <td>409.941688</td>\n",
       "      <td>72</td>\n",
       "      <td>NaN</td>\n",
       "      <td>NaN</td>\n",
       "      <td>NaN</td>\n",
       "    </tr>\n",
       "  </tbody>\n",
       "</table>\n",
       "</div>"
      ],
      "text/plain": [
       "     Source          SS  DF         F     p-unc       np2\n",
       "0      Diet   54.939344   2  4.824629  0.010807  0.118179\n",
       "1    Height    0.460119   1  0.080813  0.777015  0.001121\n",
       "2  Residual  409.941688  72       NaN       NaN       NaN"
      ]
     },
     "execution_count": 73,
     "metadata": {},
     "output_type": "execute_result"
    },
    {
     "name": "stderr",
     "output_type": "stream",
     "text": [
      "C:\\Users\\Admin\\anaconda3\\lib\\site-packages\\outdated\\utils.py:14: OutdatedPackageWarning: The package outdated is out of date. Your version is 0.2.0, the latest is 0.2.1.\n",
      "Set the environment variable OUTDATED_IGNORE=1 to disable these warnings.\n",
      "  return warn(\n"
     ]
    }
   ],
   "source": [
    "from pingouin import ancova\n",
    "ancova(data=task7, dv='weightlost', covar='Height', between='Diet')"
   ]
  },
  {
   "cell_type": "code",
   "execution_count": null,
   "id": "complimentary-hungary",
   "metadata": {},
   "outputs": [],
   "source": []
  }
 ],
 "metadata": {
  "kernelspec": {
   "display_name": "Python 3",
   "language": "python",
   "name": "python3"
  },
  "language_info": {
   "codemirror_mode": {
    "name": "ipython",
    "version": 3
   },
   "file_extension": ".py",
   "mimetype": "text/x-python",
   "name": "python",
   "nbconvert_exporter": "python",
   "pygments_lexer": "ipython3",
   "version": "3.8.5"
  }
 },
 "nbformat": 4,
 "nbformat_minor": 5
}
