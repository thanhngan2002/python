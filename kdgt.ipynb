{
 "cells": [
  {
   "cell_type": "markdown",
   "metadata": {
    "id": "PoM7CtunGdlb"
   },
   "source": [
    "XÂY DỰNG CHƯƠNG TRÌNH KIỂM ĐỊNH Z (HOẶC T) CHO CÁC BÀI TẬP SAU\n",
    "\n",
    "Gợi ý:\n",
    "\n",
    "- Số liệu được sinh ngẫu nhiên theo phân phối chuẩn\n",
    "- Sử dụng gói phần mềm statsmodels để tiến hành kiểm định\n",
    "- Đối với các bài tập kiểm định giả thuyết thì sinh viên cần phát biểu các giả thuyết (bằng tiếng Việt) $H_{0}$ và $H_{a}$ trước khi lập trình kiểm định"
   ]
  },
  {
   "cell_type": "markdown",
   "metadata": {
    "id": "TV9cKOhWGdlg"
   },
   "source": [
    "Bài 1: You’re a Q/C inspector for Gallo. The sample standard deviation for 2-liter bottles is .05 liters.  A random sample of 100 bottles showed sasmple mean = 1.99 liters.  What is the 90%  confidence interval estimate of the true mean amount in 2-liter bottles? "
   ]
  },
  {
   "cell_type": "markdown",
   "metadata": {
    "id": "xT8wMATUJBIi"
   },
   "source": [
    "H0: μ = 2\n",
    "Ha: μ ≠ 2\n"
   ]
  },
  {
   "cell_type": "code",
   "execution_count": 58,
   "metadata": {
    "id": "5L6hvOOMGdlh"
   },
   "outputs": [],
   "source": [
    "\n",
    "import numpy as np\n",
    "import pandas as pd\n",
    "import random\n",
    "from scipy import stats\n",
    "from statsmodels.stats.weightstats import ztest\n",
    "from scipy import stats as st\n",
    "\n",
    "import warnings\n",
    "\n"
   ]
  },
  {
   "cell_type": "code",
   "execution_count": 59,
   "metadata": {},
   "outputs": [
    {
     "name": "stdout",
     "output_type": "stream",
     "text": [
      "Khoảng tin cậy: (1.9177573186524264, 2.082242681347574)\n",
      "z = -3.6370332835618258 p = 0.9998621018475642\n",
      "Chưa có bằng chứng để bác bỏ giả thuyết H0\n"
     ]
    }
   ],
   "source": [
    "alpha = 0.1\n",
    "n = 100\n",
    "sigma = 0.05\n",
    "samples = np.random.normal(1.99, 0.05 ,100 )\n",
    "null_mean = 2\n",
    "print('Khoảng tin cậy:',stats.norm.interval(1-alpha, loc = null_mean, scale = sigma))\n",
    "# Kiểm định z\n",
    "ztest_Score, p_value= ztest(samples, value = null_mean, alternative='larger')\n",
    "print('z =', ztest_Score,'p =', p_value)\n",
    "if(p_value <  alpha/2):\n",
    "  print(\"Có bằng chứng để bác bỏ giả thuyết H0\")\n",
    "else:\n",
    "  print(\"Chưa có bằng chứng để bác bỏ giả thuyết H0\")\n"
   ]
  },
  {
   "cell_type": "markdown",
   "metadata": {
    "id": "8S2GnFaHGdlh"
   },
   "source": [
    "Bài 2: You’re a time study analyst in manufacturing.  You’ve recorded the following task times (min.): 3.6, 4.2, 4.0, 3.5, 3.8, 3.1. What is the 90% confidence interval estimate of the population mean task time? "
   ]
  },
  {
   "cell_type": "code",
   "execution_count": null,
   "metadata": {
    "id": "Vn0hXmAbGdlh"
   },
   "outputs": [],
   "source": [
    "Giả sử:\n",
    "H0:  μ = 3\n",
    "Ha:  μ ≠ 3"
   ]
  },
  {
   "cell_type": "code",
   "execution_count": 53,
   "metadata": {},
   "outputs": [
    {
     "name": "stdout",
     "output_type": "stream",
     "text": [
      "Khoảng tin cậy: (3.114592303730054, 4.285407696269947)\n",
      "t =  4.397966037062806 , p =  0.0070352379556010555\n",
      "Có bằng chứng để bác bỏ giả thuyết H0\n"
     ]
    }
   ],
   "source": [
    "a = np.array([3.6, 4.2, 4.0, 3.5, 3.8, 3.1])\n",
    "#Xác định thông số \n",
    "alpha = 0.1\n",
    "sigma = np.std(a)\n",
    "null_mean = np.mean(a)\n",
    "print('Khoảng tin cậy:',stats.norm.interval(1-alpha, loc = null_mean, scale = sigma))\n",
    "#kiểm định t\n",
    "ttest_Score, p_value= stats.ttest_1samp(a, 3.0 )\n",
    "print('t = ',ttest_Score,', p = ',p_value)\n",
    "if(p_value <  alpha/2):\n",
    "  print(\"Có bằng chứng để bác bỏ giả thuyết H0\")\n",
    "else:\n",
    "  print(\"Chưa có bằng chứng để bác bỏ giả thuyết H0\")\n"
   ]
  },
  {
   "cell_type": "markdown",
   "metadata": {
    "id": "52tuKfbNGdli"
   },
   "source": [
    "Bài 3: Does an average box of cereal contain 368 grams of cereal?  A random sample of 25 boxes had $\\overline{\\rm x}$ = 372.5.  The company has specified $\\sigma$ to be 25 grams.  Test at the .05 level of significance."
   ]
  },
  {
   "cell_type": "code",
   "execution_count": null,
   "metadata": {
    "id": "tVFzcmyjGdli"
   },
   "outputs": [],
   "source": [
    "H0: μ = 368\n",
    "Ha: μ ≠ 368 \n"
   ]
  },
  {
   "cell_type": "code",
   "execution_count": 18,
   "metadata": {},
   "outputs": [
    {
     "name": "stdout",
     "output_type": "stream",
     "text": [
      "t =  0.9825269301547636 , p =  0.3356420727152585\n",
      "Chưa có bằng chứng để bác bỏ giả thuyết H0\n"
     ]
    }
   ],
   "source": [
    "alpha = 0.05\n",
    "null_mean = 368\n",
    "# sinh ngẫu nhiên 25 phần tử với độ lệch chuẩn 25, trung bình mẫu 372.5\n",
    "samples = np.random.normal(372.5, 25, 25 )\n",
    "ttest_Score, p_value= stats.ttest_1samp(samples,368 )\n",
    "print('t = ',ttest_Score,', p = ',p_value)\n",
    "if(p_value <  alpha/2):\n",
    "  print(\"Có bằng chứng để bác bỏ giả thuyết H0\")\n",
    "else:\n",
    "  print(\"Chưa có bằng chứng để bác bỏ giả thuyết H0\")"
   ]
  },
  {
   "cell_type": "markdown",
   "metadata": {
    "id": "dAZuq-puGdli"
   },
   "source": [
    "Bài 4: You’re a Q/C inspector.  You want to find out if a new machine is making electrical cords to customer specification: average breaking strength of 70 lb. with $\\sigma$ = 3.5 lb.  You take a sample of 36 cords & compute a sample mean of 69.7 lb.  At the .05 level of significance, is there evidence that the machine is not meeting the average breaking strength?"
   ]
  },
  {
   "cell_type": "code",
   "execution_count": null,
   "metadata": {},
   "outputs": [],
   "source": [
    "H0: μ = 70\n",
    "Ha: μ <70\n"
   ]
  },
  {
   "cell_type": "code",
   "execution_count": 20,
   "metadata": {
    "id": "NCydnXENGdlj"
   },
   "outputs": [
    {
     "name": "stdout",
     "output_type": "stream",
     "text": [
      "z = 0.6076152696657962 p = 0.271721335504471\n",
      "Chưa có bằng chứng để bác bỏ giả thuyết H0\n"
     ]
    }
   ],
   "source": [
    "#Code here\n",
    "alpha = 0.05\n",
    "null_mean =70\n",
    "# sinh ngẫu nhiên 36 phần tử với độ lệch chuẩn 3.5, trung bình mẫu 69.7\n",
    "samples = np.random.normal(69.7, 3.5, 36 )\n",
    "# Kiểm định z\n",
    "ztest_Score, p_value= ztest(samples, value = null_mean, alternative='larger')\n",
    "print('z =', ztest_Score,'p =', p_value)\n",
    "if(p_value <  alpha):\n",
    "  print(\"Có bằng chứng để bác bỏ giả thuyết H0\")\n",
    "else:\n",
    "  print(\"Chưa có bằng chứng để bác bỏ giả thuyết H0\")\n"
   ]
  },
  {
   "cell_type": "markdown",
   "metadata": {
    "id": "28TMgneCGdlj"
   },
   "source": [
    "Bài 5: Does an average box of cereal contain more than 368 grams of cereal?  A random sample of 25 boxes showed $\\overline{\\rm x}$ =  372.5.  The company has specified $\\sigma$ to be 25 grams.  Test at the .05 level of significance."
   ]
  },
  {
   "cell_type": "code",
   "execution_count": null,
   "metadata": {},
   "outputs": [],
   "source": [
    "H0: μ = 368\n",
    "Ha: μ > 368 \n"
   ]
  },
  {
   "cell_type": "code",
   "execution_count": 54,
   "metadata": {
    "id": "3B8wxNZZGdlj"
   },
   "outputs": [
    {
     "name": "stdout",
     "output_type": "stream",
     "text": [
      "t =  1.6414893457655801 , p =  0.11373699410804994\n",
      "Chưa có bằng chứng để bác bỏ giả thuyết H0\n"
     ]
    }
   ],
   "source": [
    "#Code here\n",
    "alpha = 0.05\n",
    "null_mean = 368\n",
    "# sinh ngẫu nhiên 25 phần tử với độ lệch chuẩn 25, trung bình mẫu 372.5\n",
    "samples = np.random.normal(372.5, 25, 25 )\n",
    "ttest_Score, p_value= stats.ttest_1samp(samples,368 )\n",
    "print('t = ',ttest_Score,', p = ',p_value)\n",
    "if(p_value <  alpha) and (ttest_Score > 0):\n",
    "  print(\"Có bằng chứng để bác bỏ giả thuyết H0\")\n",
    "else:\n",
    "  print(\"Chưa có bằng chứng để bác bỏ giả thuyết H0\")"
   ]
  },
  {
   "cell_type": "markdown",
   "metadata": {
    "id": "97eTVo3UGdlj"
   },
   "source": [
    "Bài 6: You’re an analyst for Ford.  You want to find out if the average miles per gallon of Escorts is at least 32 mpg. Similar models have a standard deviation of 3.8 mpg. You take a sample of 60 Escorts & compute a sample mean of 30.7 mpg. At the .01 level of significance, is there evidence that the miles per gallon is less than 32?"
   ]
  },
  {
   "cell_type": "code",
   "execution_count": null,
   "metadata": {},
   "outputs": [],
   "source": [
    "H0: μ = 32\n",
    "Ha: μ < 32\n"
   ]
  },
  {
   "cell_type": "code",
   "execution_count": 36,
   "metadata": {
    "id": "2xDsDtNtGdlk"
   },
   "outputs": [
    {
     "name": "stdout",
     "output_type": "stream",
     "text": [
      "z = 0.40730204403879683 p = 0.3418930808525571\n",
      "Chưa có bằng chứng để bác bỏ giả thuyết H0\n"
     ]
    }
   ],
   "source": [
    "#Code here\n",
    "alpha = 0.01\n",
    "null_mean = 32\n",
    "# sinh ngẫu nhiên 60 phần tử với độ lệch chuẩn 3.8 , trung bình mẫu 30.7\n",
    "samples = np.random.normal(30.7, 33.8, 60 )\n",
    "# Kiểm định z\n",
    "ztest_Score, p_value= ztest(samples, value = null_mean, alternative='larger')\n",
    "print('z =', ztest_Score,'p =', p_value)\n",
    "if(p_value <  alpha) and (ztest_Score < 0):\n",
    "  print(\"Có bằng chứng để bác bỏ giả thuyết H0\")\n",
    "else:\n",
    "  print(\"Chưa có bằng chứng để bác bỏ giả thuyết H0\")\n",
    "\n"
   ]
  },
  {
   "cell_type": "markdown",
   "metadata": {
    "id": "o8zJPZGBGdlk"
   },
   "source": [
    "Bài 7: Does an average box of cereal contain 368 grams of cereal?  A random sample of 25 boxes showed $\\overline{\\rm x}$ = 372.5.  The company has specified $\\sigma$ to be 15 grams.  Find the p-Value."
   ]
  },
  {
   "cell_type": "code",
   "execution_count": null,
   "metadata": {},
   "outputs": [],
   "source": [
    "H0: μ = 368 \n",
    "Ha: μ ≠ 368  "
   ]
  },
  {
   "cell_type": "code",
   "execution_count": 60,
   "metadata": {
    "id": "b4Hhv7M-Gdlk"
   },
   "outputs": [
    {
     "name": "stdout",
     "output_type": "stream",
     "text": [
      "p_value =  0.1750089520751033\n"
     ]
    }
   ],
   "source": [
    "#Code here\n",
    "null_mean = 368\n",
    "# sinh ngẫu nhiên 25 phần tử với độ lệch chuẩn 25 , trung bình mẫu 372.5\n",
    "samples = np.random.normal(372.5, 25, 25 )\n",
    "#Kiểm định t\n",
    "ttest_Score, p_value = st.ttest_1samp(samples, null_mean)\n",
    "print('p_value = ',p_value)"
   ]
  },
  {
   "cell_type": "markdown",
   "metadata": {
    "id": "7gAUKLOeGdlk"
   },
   "source": [
    "Bài 8: Does an average box of cereal contain more than 368 grams of cereal?  A random sample of 25 boxes showed $\\overline{\\rm x}$ = 372.5.  The company has specified $\\sigma$ to be 15 grams.  Find the p-Value."
   ]
  },
  {
   "cell_type": "code",
   "execution_count": 61,
   "metadata": {
    "id": "mslOiKe1Gdlk"
   },
   "outputs": [
    {
     "name": "stdout",
     "output_type": "stream",
     "text": [
      "p_value =  0.8299481920578422\n"
     ]
    }
   ],
   "source": [
    "#Code here\n",
    "null_mean = 368\n",
    "\n",
    "#Sinh ngẫu nhiên một mẫu 25 phần tử có trung bình mẫu là 372.5, độ lệch chuẩn là 25\n",
    "samples = np.random.normal(372.5, 25, 25)\n",
    "#Kiểm định t\n",
    "ttest_Score, p_value = st.ttest_1samp(samples, null_mean)\n",
    "print('p_value = ',p_value)"
   ]
  },
  {
   "cell_type": "markdown",
   "metadata": {
    "id": "EkgKwCZyGdlk"
   },
   "source": [
    "Bài 9: You’re an analyst for Ford.  You want to find out if the average miles per gallon of Escorts is less than 32 mpg.   Similar models have a standard deviation of 3.8 mpg.  You take a sample of 60 Escorts & compute a sample mean of 30.7 mpg.  What is the value of the observed level of significance (p-Value)?"
   ]
  },
  {
   "cell_type": "code",
   "execution_count": 62,
   "metadata": {
    "id": "qxiaObJkGdll"
   },
   "outputs": [
    {
     "name": "stdout",
     "output_type": "stream",
     "text": [
      " p =  0.8151465346903787\n"
     ]
    }
   ],
   "source": [
    "#Code here\n",
    "null_mean = 32\n",
    "#sinh ngẫu nhiên một mẫu 60 phần tử có trung bình mẫu là 30.7 độ lệch chuẩn là 3.8\n",
    "samples = np.random.normal(30.7,3.8,60)\n",
    "#kiểm định z\n",
    "ztest_Score, p_value= ztest(samples, value = null_mean, alternative='larger')\n",
    "print(' p = ', p_value)"
   ]
  },
  {
   "cell_type": "markdown",
   "metadata": {
    "id": "oSmImcLHGdll"
   },
   "source": [
    "Bài 10: Does an average box of cereal contain 368 grams of cereal?  A random sample of 36 boxes had a mean of 372.5 and a standard deviation of 12 grams. Test at the .05 level of significance."
   ]
  },
  {
   "cell_type": "code",
   "execution_count": 69,
   "metadata": {
    "id": "Hqx3iLmaGdll"
   },
   "outputs": [
    {
     "name": "stdout",
     "output_type": "stream",
     "text": [
      "z =  2.407699898254665 ; p =  0.008026685514924156\n",
      "Có bằng chứng để bác bỏ giả thuyết H0\n"
     ]
    }
   ],
   "source": [
    "#Code here\n",
    "alpha = 0.05\n",
    "null_mean = 368\n",
    "\n",
    "#Sinh ngẫu nhiên một mẫu 25 phần tử có trung bình mẫu là 372.5, độ lệch chuẩn là 25\n",
    "samples = np.random.normal(372.5, 12, 36)\n",
    "#Kiểm định z\n",
    "ztest_Score, p_value= ztest(samples, value = null_mean, alternative='larger')\n",
    "print('z = ', ztest_Score, '; p = ', p_value)\n",
    "if (p_value <  alpha/2):\n",
    "  print(\"Có bằng chứng để bác bỏ giả thuyết H0\")\n",
    "else:\n",
    "  print(\"Chưa có bằng chứng để bác bỏ giả thuyết H0\")"
   ]
  },
  {
   "cell_type": "markdown",
   "metadata": {
    "id": "z7TRixejGdll"
   },
   "source": [
    "Bài 11: You work for the FTC.  A manufacturer of detergent claims that the mean weight of detergent is 3.25 lb.  You take a random sample of 64 containers.  You calculate the sample average to be 3.238 lb. with a standard deviation of .117 lb.  At the .01 level of significance, is the manufacturer correct?"
   ]
  },
  {
   "cell_type": "code",
   "execution_count": null,
   "metadata": {},
   "outputs": [],
   "source": [
    "H0: μ = 3.25\n",
    "\n",
    "Ha: μ >< 3.25"
   ]
  },
  {
   "cell_type": "code",
   "execution_count": 65,
   "metadata": {
    "id": "oRbECmuCGdlm"
   },
   "outputs": [
    {
     "name": "stdout",
     "output_type": "stream",
     "text": [
      "z =  -0.8630887527835294 ; p =  0.8059556643379794\n",
      "Chưa có bằng chứng để bác bỏ giả thuyết H0\n"
     ]
    }
   ],
   "source": [
    "#Code here\n",
    "alpha = 0.01\n",
    "null_mean = 3.25\n",
    "#Sinh ngẫu nhiên một mẫu 64 phần tử có trung bình mẫu là 3.238, độ lệch chuẩn là 0.117\n",
    "samples = np.random.normal(3.238, 0.117, 64)\n",
    "ztest_Score, p_value= ztest(samples, value = null_mean, alternative='larger')\n",
    "print('z = ', ztest_Score, '; p = ', p_value)\n",
    "if (p_value <  alpha/2):\n",
    "  print(\"Có bằng chứng để bác bỏ giả thuyết H0\")\n",
    "else:\n",
    "  print(\"Chưa có bằng chứng để bác bỏ giả thuyết H0\")"
   ]
  },
  {
   "cell_type": "markdown",
   "metadata": {
    "id": "X3gWN3-cGdlm"
   },
   "source": [
    "Bài 12: Is the average capacity of batteries less than 140 ampere-hours?  A random sample of 20 batteries had a mean of 138.47 and a standard deviation of 2.66.  Assume a normal distribution. Test at the .05 level of significance."
   ]
  },
  {
   "cell_type": "code",
   "execution_count": null,
   "metadata": {},
   "outputs": [],
   "source": [
    "H0: μ = 140\n",
    "\n",
    "Ha: μ > 140"
   ]
  },
  {
   "cell_type": "code",
   "execution_count": 66,
   "metadata": {
    "id": "CVIKHPgVGdlm"
   },
   "outputs": [
    {
     "name": "stdout",
     "output_type": "stream",
     "text": [
      "t =  -3.6031549913911687 , p =  0.0018947962469942775\n",
      "Chưa có bằng chứng để bác bỏ giả thuyết H0\n"
     ]
    }
   ],
   "source": [
    "#Code here\n",
    "alpha = 0.05\n",
    "null_mean = 140\n",
    "#Sinh ngẫu nhiên một mẫu 20 phần tử có trung bình mẫu là 138.47, độ lệch chuẩn là 2.66\n",
    "samples = np.random.normal(138.47, 2.66, 20)\n",
    "#Kiểm định t\n",
    "ttest_Score, p_value = st.ttest_1samp(samples, null_mean)\n",
    "print('t = ',ttest_Score,', p = ',p_value)\n",
    "if(p_value <  alpha) and (ttest_Score>0):\n",
    "  print(\"Có bằng chứng để bác bỏ giả thuyết H0\")\n",
    "else:\n",
    "  print(\"Chưa có bằng chứng để bác bỏ giả thuyết H0\")"
   ]
  },
  {
   "cell_type": "markdown",
   "metadata": {
    "id": "enbxOJWXGdlm"
   },
   "source": [
    "Bài 13: You’re a marketing analyst for Wal-Mart.  Wal-Mart had teddy bears on sale last week.  The weekly sales of bears sold in 10 stores was: 8  11  0   4   7   8   10   5   8   3. At the .05 level of significance, is there evidence that the average bear sales per store is more than 5?"
   ]
  },
  {
   "cell_type": "code",
   "execution_count": null,
   "metadata": {},
   "outputs": [],
   "source": [
    "H0: μ = 5\n",
    "\n",
    "Ha: μ > 5"
   ]
  },
  {
   "cell_type": "code",
   "execution_count": 67,
   "metadata": {
    "id": "zgSXtNENGdlm"
   },
   "outputs": [
    {
     "name": "stdout",
     "output_type": "stream",
     "text": [
      "t =  1.3125000000000004 , p =  0.2218341554238571\n",
      "Chưa có bằng chứng để bác bỏ giả thuyết H0\n"
     ]
    }
   ],
   "source": [
    "#Code here\n",
    "a = np.array([8,11,0,4,7,8,10,5,8,3])\n",
    "alpha = 0.05\n",
    "null_mean = 5\n",
    "#Kiểm định t\n",
    "ttest_Score, p_value = st.ttest_1samp(a, null_mean)\n",
    "print('t = ',ttest_Score,', p = ',p_value)\n",
    "if(p_value <  alpha) and (ttest_Score>0):\n",
    "  print(\"Có bằng chứng để bác bỏ giả thuyết H0\")\n",
    "else:\n",
    "  print(\"Chưa có bằng chứng để bác bỏ giả thuyết H0\")"
   ]
  },
  {
   "cell_type": "code",
   "execution_count": null,
   "metadata": {
    "id": "SGwNciWSGdln"
   },
   "outputs": [],
   "source": []
  }
 ],
 "metadata": {
  "colab": {
   "name": "bai-tap-kiem-dinh-z-t.ipynb",
   "provenance": []
  },
  "kernelspec": {
   "display_name": "Python 3",
   "language": "python",
   "name": "python3"
  },
  "language_info": {
   "codemirror_mode": {
    "name": "ipython",
    "version": 3
   },
   "file_extension": ".py",
   "mimetype": "text/x-python",
   "name": "python",
   "nbconvert_exporter": "python",
   "pygments_lexer": "ipython3",
   "version": "3.8.5"
  }
 },
 "nbformat": 4,
 "nbformat_minor": 1
}
