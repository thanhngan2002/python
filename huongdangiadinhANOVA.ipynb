{
 "cells": [
  {
   "cell_type": "markdown",
   "metadata": {
    "id": "VHX--82oPL6p"
   },
   "source": [
    "PHÂN TÍCH ANOVA MỘT CHIỀU\n",
    "\n",
    "Phân tích ANOVA chấp nhận các giả định sau:\n",
    "\n",
    "(1) Tất cả các nhóm đều độc lập với nhau\n",
    "\n",
    "(2) Dữ liệu của mỗi nhóm đều tuân theo phân phối chuẩn. Tính chất này có thể được kiểm định bằng phương pháp Shapiro-Wilks.\n",
    "\n",
    "(3) Phương sai (variance) của các nhóm bằng nhau. Tính chất này có thể được kiểm định bằng phương pháp kiểm định Bartlett hay Levene.\n",
    "\n",
    "Nếu dữ liệu hiện có thỏa mãn các tính chất trên thì chúng ta mới tiến hành kiểm định ANOVA. Do vậy trước khi tiến hành kiểm định ANOVA, chúng ta cần thực hiện kiểm tra tập dữ liệu cần thỏa mãn 3 tính chất trên.\n",
    "    "
   ]
  },
  {
   "cell_type": "code",
   "execution_count": null,
   "metadata": {
    "id": "qHDpGpeJPL6z"
   },
   "outputs": [],
   "source": [
    "#Bước 1: Hãy tạo một tập dữ liệu mẫu sample_1 với kích thước 100 tuân theo phân phối chuẩn"
   ]
  },
  {
   "cell_type": "code",
   "execution_count": null,
   "metadata": {
    "id": "2FCOxE7YPL60"
   },
   "outputs": [],
   "source": [
    "#Bước 2: hãy tạo tập dữ liệu mẫu sample_2 với kích thước 100 tuân theo phân phối Poisson"
   ]
  },
  {
   "cell_type": "markdown",
   "metadata": {
    "id": "-tLWnRTgPL61"
   },
   "source": [
    "Hãy tham khảo các hướng dẫn sau để kiểm định tính chất thứ 2 bằng phương pháp Shapiro-Wilks đối với sample_1 và sample_2\n",
    "\n",
    "(1) [Tài liệu tham khảo scipy](https://docs.scipy.org/doc/scipy/reference/generated/scipy.stats.shapiro.html)\n",
    "\n",
    "(2) [Hướng dẫn cụ thể của statology](https://www.statology.org/shapiro-wilk-test-python/)"
   ]
  },
  {
   "cell_type": "code",
   "execution_count": 1,
   "metadata": {},
   "outputs": [],
   "source": [
    "import numpy as np\n",
    "from scipy import stats\n",
    "from numpy.random import seed\n",
    "from numpy.random import poisson\n",
    "from scipy.stats import shapiro\n"
   ]
  },
  {
   "cell_type": "code",
   "execution_count": 2,
   "metadata": {},
   "outputs": [
    {
     "data": {
      "text/plain": [
       "array([ 4,  5,  6,  5,  6,  8,  4,  4,  4,  7,  6,  6,  5,  3,  3,  7,  3,\n",
       "        2,  6,  2,  3,  5,  5,  5,  3,  4,  2,  6, 10,  6,  0, 12,  6,  3,\n",
       "        3,  4,  5,  6,  5,  6,  5,  3,  5,  6,  5,  5,  4,  6, 12,  4,  7,\n",
       "        2,  8,  7,  6,  6, 10,  9,  6,  4,  4,  7,  5,  4,  1,  4,  8,  3,\n",
       "        6,  3,  6,  3,  4,  5,  7,  1,  9,  6,  5,  2,  8,  3,  5,  6,  3,\n",
       "        6,  5,  4,  7,  5,  4,  3,  4,  7,  6,  6,  3,  4, 10,  6])"
      ]
     },
     "execution_count": 2,
     "metadata": {},
     "output_type": "execute_result"
    }
   ],
   "source": [
    "sample_1 = np.random.normal(5, 15, 100)\n",
    "sample_1\n",
    "sample_2 = np.random.poisson(5, 100)\n",
    "sample_2\n",
    "\n"
   ]
  },
  {
   "cell_type": "code",
   "execution_count": 6,
   "metadata": {},
   "outputs": [
    {
     "name": "stdout",
     "output_type": "stream",
     "text": [
      "sample_1\n",
      "statistic =  0.9930830001831055\n",
      "pvalue =  0.8930166363716125\n",
      "Có bằng chứng bác bỏ giả thiết H0\n",
      "sample_2\n",
      "statistic =  0.9499825239181519\n",
      "pvalue =  0.0008273796993307769\n",
      "Không đủ bằng chứng bác bỏ giả thiết H0\n"
     ]
    }
   ],
   "source": [
    "# kiểm định stats.shapiro(x) của sample_1 và sample_2\n",
    "print ('sample_1')\n",
    "stat1, p1 = stats.shapiro(sample_1)\n",
    "print ('statistic = ', stat1)\n",
    "print ('pvalue = ', p1)\n",
    "\n",
    "if p1 < 0.05 :\n",
    "    print ('Không đủ bằng chứng bác bỏ giả thiết H0')\n",
    "else:\n",
    "    print('Có bằng chứng bác bỏ giả thiết H0')\n",
    "print ('sample_2')\n",
    "stat2, p2 = stats.shapiro(sample_2)\n",
    "print ('statistic = ', stat2)\n",
    "print ('pvalue = ', p2)\n",
    "\n",
    "if p2 < 0.05 :\n",
    "    print ('Không đủ bằng chứng bác bỏ giả thiết H0')\n",
    "else:\n",
    "    print('Có bằng chứng bác bỏ giả thiết H0')"
   ]
  },
  {
   "cell_type": "code",
   "execution_count": 30,
   "metadata": {
    "id": "JLEk_CoqPL61"
   },
   "outputs": [
    {
     "name": "stdout",
     "output_type": "stream",
     "text": [
      "statistic_of _sample_1= 0.9772801399230957 pvalue_of_sample_1= 0.08143486827611923\n",
      "statistic_of _sample_2= 0.9663721919059753 pvalue_of_sample_2= 0.011745850555598736\n"
     ]
    }
   ],
   "source": [
    "#Code kiểm định tính chất thứ 2 của sample_1 và sample_2\n",
    "from scipy import stats\n",
    "np.random.seed(12345678)\n",
    "statistic_of_sample_1,pvalue_of_sample_1 = stats.shapiro(sample_1)\n",
    "print('statistic_of _sample_1=',statistic_of_sample_1, 'pvalue_of_sample_1=', pvalue_of_sample_1)\n",
    "statistic_of_sample_2,pvalue_of_sample_2 = stats.shapiro(sample_2)\n",
    "print('statistic_of _sample_2=',statistic_of_sample_2, 'pvalue_of_sample_2=', pvalue_of_sample_2)\n"
   ]
  },
  {
   "cell_type": "markdown",
   "metadata": {
    "id": "CfGzf83TPL62"
   },
   "source": [
    "Hãy tham khảo các hướng dẫn sau để kiểm định tính chất thứ 3 bằng kiểm định Bartlett hoặc kiểm định Levene\n",
    "\n",
    "(1) [Hướng dẫn tổng quát](https://www.marsja.se/levenes-bartletts-test-of-equality-homogeneity-of-variance-in-python/)\n",
    "\n",
    "(2) [Hướng dẫn ở stackoverflow](https://stackoverflow.com/questions/36141254/how-to-test-for-homoscedasticity-having-the-same-population-variance-in-python)\n",
    "\n",
    "(3) Sử dụng bài giảng về kiểm định Bartlett và Levene ở buổi trước"
   ]
  },
  {
   "cell_type": "code",
   "execution_count": 31,
   "metadata": {
    "id": "aMjw_SavPL62"
   },
   "outputs": [
    {
     "name": "stdout",
     "output_type": "stream",
     "text": [
      "kiem dinh Levene: statistic= 166.18506536030074   p= 5.246102603029802e-28\n"
     ]
    }
   ],
   "source": [
    "#Code kiểm định tính đồng nhất về phương sai của các nhóm\n",
    "stat1, p1 = stats.levene(sample_1,sample_2)\n",
    "print ('kiem dinh Levene: statistic=', stat1,'  p=',p1)"
   ]
  },
  {
   "cell_type": "code",
   "execution_count": null,
   "metadata": {
    "id": "pTv_RnkFPL62"
   },
   "outputs": [],
   "source": []
  }
 ],
 "metadata": {
  "colab": {
   "name": "huong-dan-gia-dinh-ANOVA.ipynb",
   "provenance": []
  },
  "kernelspec": {
   "display_name": "Python 3",
   "language": "python",
   "name": "python3"
  },
  "language_info": {
   "codemirror_mode": {
    "name": "ipython",
    "version": 3
   },
   "file_extension": ".py",
   "mimetype": "text/x-python",
   "name": "python",
   "nbconvert_exporter": "python",
   "pygments_lexer": "ipython3",
   "version": "3.8.5"
  }
 },
 "nbformat": 4,
 "nbformat_minor": 1
}
