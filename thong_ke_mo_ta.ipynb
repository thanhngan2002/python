{
 "cells": [
  {
   "cell_type": "code",
   "execution_count": 2,
   "id": "african-singer",
   "metadata": {},
   "outputs": [],
   "source": [
    "import numpy as np\n",
    "import pandas as pd\n",
    "import matplotlib.pyplot as plt \n",
    "import scipy\n",
    "import statistics\n",
    "import seaborn as sns \n",
    "from scipy import stats"
   ]
  },
  {
   "cell_type": "code",
   "execution_count": 3,
   "id": "australian-yeast",
   "metadata": {},
   "outputs": [
    {
     "data": {
      "text/html": [
       "<div>\n",
       "<style scoped>\n",
       "    .dataframe tbody tr th:only-of-type {\n",
       "        vertical-align: middle;\n",
       "    }\n",
       "\n",
       "    .dataframe tbody tr th {\n",
       "        vertical-align: top;\n",
       "    }\n",
       "\n",
       "    .dataframe thead th {\n",
       "        text-align: right;\n",
       "    }\n",
       "</style>\n",
       "<table border=\"1\" class=\"dataframe\">\n",
       "  <thead>\n",
       "    <tr style=\"text-align: right;\">\n",
       "      <th></th>\n",
       "      <th>Mthly_HH_Income</th>\n",
       "      <th>Mthly_HH_Expense</th>\n",
       "      <th>No_of_Fly_Members</th>\n",
       "      <th>Emi_or_Rent_Amt</th>\n",
       "      <th>Annual_HH_Income</th>\n",
       "      <th>Highest_Qualified_Member</th>\n",
       "      <th>No_of_Earning_Members</th>\n",
       "    </tr>\n",
       "  </thead>\n",
       "  <tbody>\n",
       "    <tr>\n",
       "      <th>0</th>\n",
       "      <td>5000</td>\n",
       "      <td>8000</td>\n",
       "      <td>3</td>\n",
       "      <td>2000</td>\n",
       "      <td>64200</td>\n",
       "      <td>Under-Graduate</td>\n",
       "      <td>1</td>\n",
       "    </tr>\n",
       "    <tr>\n",
       "      <th>1</th>\n",
       "      <td>6000</td>\n",
       "      <td>7000</td>\n",
       "      <td>2</td>\n",
       "      <td>3000</td>\n",
       "      <td>79920</td>\n",
       "      <td>Illiterate</td>\n",
       "      <td>1</td>\n",
       "    </tr>\n",
       "    <tr>\n",
       "      <th>2</th>\n",
       "      <td>10000</td>\n",
       "      <td>4500</td>\n",
       "      <td>2</td>\n",
       "      <td>0</td>\n",
       "      <td>112800</td>\n",
       "      <td>Under-Graduate</td>\n",
       "      <td>1</td>\n",
       "    </tr>\n",
       "    <tr>\n",
       "      <th>3</th>\n",
       "      <td>10000</td>\n",
       "      <td>2000</td>\n",
       "      <td>1</td>\n",
       "      <td>0</td>\n",
       "      <td>97200</td>\n",
       "      <td>Illiterate</td>\n",
       "      <td>1</td>\n",
       "    </tr>\n",
       "    <tr>\n",
       "      <th>4</th>\n",
       "      <td>12500</td>\n",
       "      <td>12000</td>\n",
       "      <td>2</td>\n",
       "      <td>3000</td>\n",
       "      <td>147000</td>\n",
       "      <td>Graduate</td>\n",
       "      <td>1</td>\n",
       "    </tr>\n",
       "  </tbody>\n",
       "</table>\n",
       "</div>"
      ],
      "text/plain": [
       "   Mthly_HH_Income  Mthly_HH_Expense  No_of_Fly_Members  Emi_or_Rent_Amt  \\\n",
       "0             5000              8000                  3             2000   \n",
       "1             6000              7000                  2             3000   \n",
       "2            10000              4500                  2                0   \n",
       "3            10000              2000                  1                0   \n",
       "4            12500             12000                  2             3000   \n",
       "\n",
       "   Annual_HH_Income Highest_Qualified_Member  No_of_Earning_Members  \n",
       "0             64200           Under-Graduate                      1  \n",
       "1             79920               Illiterate                      1  \n",
       "2            112800           Under-Graduate                      1  \n",
       "3             97200               Illiterate                      1  \n",
       "4            147000                 Graduate                      1  "
      ]
     },
     "execution_count": 3,
     "metadata": {},
     "output_type": "execute_result"
    }
   ],
   "source": [
    "import pandas as pd\n",
    "\n",
    "data = pd.read_csv('Inc_Exp_Data.csv')\n",
    "data.head()"
   ]
  },
  {
   "cell_type": "code",
   "execution_count": 4,
   "id": "collaborative-portal",
   "metadata": {},
   "outputs": [
    {
     "name": "stdout",
     "output_type": "stream",
     "text": [
      "<class 'pandas.core.frame.DataFrame'>\n",
      "RangeIndex: 50 entries, 0 to 49\n",
      "Data columns (total 7 columns):\n",
      " #   Column                    Non-Null Count  Dtype \n",
      "---  ------                    --------------  ----- \n",
      " 0   Mthly_HH_Income           50 non-null     int64 \n",
      " 1   Mthly_HH_Expense          50 non-null     int64 \n",
      " 2   No_of_Fly_Members         50 non-null     int64 \n",
      " 3   Emi_or_Rent_Amt           50 non-null     int64 \n",
      " 4   Annual_HH_Income          50 non-null     int64 \n",
      " 5   Highest_Qualified_Member  50 non-null     object\n",
      " 6   No_of_Earning_Members     50 non-null     int64 \n",
      "dtypes: int64(6), object(1)\n",
      "memory usage: 2.9+ KB\n"
     ]
    }
   ],
   "source": [
    "# Xem thông tin dữ liệu data\n",
    "data.info()"
   ]
  },
  {
   "cell_type": "markdown",
   "id": "humanitarian-miami",
   "metadata": {},
   "source": [
    "## Phân phối"
   ]
  },
  {
   "cell_type": "code",
   "execution_count": 19,
   "id": "clinical-gothic",
   "metadata": {},
   "outputs": [
    {
     "data": {
      "text/html": [
       "<div>\n",
       "<style scoped>\n",
       "    .dataframe tbody tr th:only-of-type {\n",
       "        vertical-align: middle;\n",
       "    }\n",
       "\n",
       "    .dataframe tbody tr th {\n",
       "        vertical-align: top;\n",
       "    }\n",
       "\n",
       "    .dataframe thead th {\n",
       "        text-align: right;\n",
       "    }\n",
       "</style>\n",
       "<table border=\"1\" class=\"dataframe\">\n",
       "  <thead>\n",
       "    <tr style=\"text-align: right;\">\n",
       "      <th></th>\n",
       "      <th>%</th>\n",
       "    </tr>\n",
       "    <tr>\n",
       "      <th>Highest_Qualified_Member</th>\n",
       "      <th></th>\n",
       "    </tr>\n",
       "  </thead>\n",
       "  <tbody>\n",
       "    <tr>\n",
       "      <th>Graduate</th>\n",
       "      <td>38.0</td>\n",
       "    </tr>\n",
       "    <tr>\n",
       "      <th>Illiterate</th>\n",
       "      <td>10.0</td>\n",
       "    </tr>\n",
       "    <tr>\n",
       "      <th>Post-Graduate</th>\n",
       "      <td>12.0</td>\n",
       "    </tr>\n",
       "    <tr>\n",
       "      <th>Professional</th>\n",
       "      <td>20.0</td>\n",
       "    </tr>\n",
       "    <tr>\n",
       "      <th>Under-Graduate</th>\n",
       "      <td>20.0</td>\n",
       "    </tr>\n",
       "  </tbody>\n",
       "</table>\n",
       "</div>"
      ],
      "text/plain": [
       "                             %\n",
       "Highest_Qualified_Member      \n",
       "Graduate                  38.0\n",
       "Illiterate                10.0\n",
       "Post-Graduate             12.0\n",
       "Professional              20.0\n",
       "Under-Graduate            20.0"
      ]
     },
     "execution_count": 19,
     "metadata": {},
     "output_type": "execute_result"
    }
   ],
   "source": [
    "# Bảng thống kê tỉ lệ trình độ học vấn cao nhất\n",
    "x = data.groupby('Highest_Qualified_Member')['Highest_Qualified_Member'].count()\n",
    "x = pd.DataFrame(x)\n",
    "x.columns = ['%']\n",
    "Highest_Qualified_Member = x/sum(x['%'])*100\n",
    "Highest_Qualified_Member"
   ]
  },
  {
   "cell_type": "code",
   "execution_count": 22,
   "id": "tutorial-summary",
   "metadata": {},
   "outputs": [
    {
     "data": {
      "text/plain": [
       "<AxesSubplot:>"
      ]
     },
     "execution_count": 22,
     "metadata": {},
     "output_type": "execute_result"
    },
    {
     "data": {
      "image/png": "[encoded data removed]",
      "text/plain": [
       "<Figure size 432x288 with 1 Axes>"
      ]
     },
     "metadata": {
      "needs_background": "light"
     },
     "output_type": "display_data"
    }
   ],
   "source": [
    "data['Highest_Qualified_Member'].value_counts().plot.bar()"
   ]
  },
  {
   "cell_type": "code",
   "execution_count": 23,
   "id": "secure-wealth",
   "metadata": {},
   "outputs": [
    {
     "data": {
      "text/plain": [
       "<AxesSubplot:>"
      ]
     },
     "execution_count": 23,
     "metadata": {},
     "output_type": "execute_result"
    },
    {
     "data": {
      "image/png": "[encoded data removed]",
      "text/plain": [
       "<Figure size 432x288 with 1 Axes>"
      ]
     },
     "metadata": {
      "needs_background": "light"
     },
     "output_type": "display_data"
    }
   ],
   "source": [
    "data['No_of_Earning_Members'].value_counts().plot.bar()"
   ]
  },
  {
   "cell_type": "code",
   "execution_count": 24,
   "id": "designed-blond",
   "metadata": {},
   "outputs": [
    {
     "data": {
      "text/plain": [
       "<AxesSubplot:ylabel='Frequency'>"
      ]
     },
     "execution_count": 24,
     "metadata": {},
     "output_type": "execute_result"
    },
    {
     "data": {
      "image/png": "[encoded data removed]",
      "text/plain": [
       "<Figure size 864x432 with 1 Axes>"
      ]
     },
     "metadata": {
      "needs_background": "light"
     },
     "output_type": "display_data"
    }
   ],
   "source": [
    "data['Annual_HH_Income'].plot.hist(figsize=(12,6))\n"
   ]
  },
  {
   "cell_type": "markdown",
   "id": "entertaining-increase",
   "metadata": {},
   "source": [
    "## Xu hướng tập Trung"
   ]
  },
  {
   "cell_type": "code",
   "execution_count": 25,
   "id": "ancient-contract",
   "metadata": {},
   "outputs": [
    {
     "data": {
      "text/html": [
       "<div>\n",
       "<style scoped>\n",
       "    .dataframe tbody tr th:only-of-type {\n",
       "        vertical-align: middle;\n",
       "    }\n",
       "\n",
       "    .dataframe tbody tr th {\n",
       "        vertical-align: top;\n",
       "    }\n",
       "\n",
       "    .dataframe thead th {\n",
       "        text-align: right;\n",
       "    }\n",
       "</style>\n",
       "<table border=\"1\" class=\"dataframe\">\n",
       "  <thead>\n",
       "    <tr style=\"text-align: right;\">\n",
       "      <th></th>\n",
       "      <th>Mthly_HH_Income</th>\n",
       "      <th>Mthly_HH_Expense</th>\n",
       "      <th>No_of_Fly_Members</th>\n",
       "      <th>Emi_or_Rent_Amt</th>\n",
       "      <th>Annual_HH_Income</th>\n",
       "      <th>No_of_Earning_Members</th>\n",
       "    </tr>\n",
       "  </thead>\n",
       "  <tbody>\n",
       "    <tr>\n",
       "      <th>count</th>\n",
       "      <td>50.000000</td>\n",
       "      <td>50.000000</td>\n",
       "      <td>50.000000</td>\n",
       "      <td>50.000000</td>\n",
       "      <td>5.000000e+01</td>\n",
       "      <td>50.000000</td>\n",
       "    </tr>\n",
       "    <tr>\n",
       "      <th>mean</th>\n",
       "      <td>41558.000000</td>\n",
       "      <td>18818.000000</td>\n",
       "      <td>4.060000</td>\n",
       "      <td>3060.000000</td>\n",
       "      <td>4.900190e+05</td>\n",
       "      <td>1.460000</td>\n",
       "    </tr>\n",
       "    <tr>\n",
       "      <th>std</th>\n",
       "      <td>26097.908979</td>\n",
       "      <td>12090.216824</td>\n",
       "      <td>1.517382</td>\n",
       "      <td>6241.434948</td>\n",
       "      <td>3.201358e+05</td>\n",
       "      <td>0.734291</td>\n",
       "    </tr>\n",
       "    <tr>\n",
       "      <th>min</th>\n",
       "      <td>5000.000000</td>\n",
       "      <td>2000.000000</td>\n",
       "      <td>1.000000</td>\n",
       "      <td>0.000000</td>\n",
       "      <td>6.420000e+04</td>\n",
       "      <td>1.000000</td>\n",
       "    </tr>\n",
       "    <tr>\n",
       "      <th>25%</th>\n",
       "      <td>23550.000000</td>\n",
       "      <td>10000.000000</td>\n",
       "      <td>3.000000</td>\n",
       "      <td>0.000000</td>\n",
       "      <td>2.587500e+05</td>\n",
       "      <td>1.000000</td>\n",
       "    </tr>\n",
       "    <tr>\n",
       "      <th>50%</th>\n",
       "      <td>35000.000000</td>\n",
       "      <td>15500.000000</td>\n",
       "      <td>4.000000</td>\n",
       "      <td>0.000000</td>\n",
       "      <td>4.474200e+05</td>\n",
       "      <td>1.000000</td>\n",
       "    </tr>\n",
       "    <tr>\n",
       "      <th>75%</th>\n",
       "      <td>50375.000000</td>\n",
       "      <td>25000.000000</td>\n",
       "      <td>5.000000</td>\n",
       "      <td>3500.000000</td>\n",
       "      <td>5.947200e+05</td>\n",
       "      <td>2.000000</td>\n",
       "    </tr>\n",
       "    <tr>\n",
       "      <th>max</th>\n",
       "      <td>100000.000000</td>\n",
       "      <td>50000.000000</td>\n",
       "      <td>7.000000</td>\n",
       "      <td>35000.000000</td>\n",
       "      <td>1.404000e+06</td>\n",
       "      <td>4.000000</td>\n",
       "    </tr>\n",
       "  </tbody>\n",
       "</table>\n",
       "</div>"
      ],
      "text/plain": [
       "       Mthly_HH_Income  Mthly_HH_Expense  No_of_Fly_Members  Emi_or_Rent_Amt  \\\n",
       "count        50.000000         50.000000          50.000000        50.000000   \n",
       "mean      41558.000000      18818.000000           4.060000      3060.000000   \n",
       "std       26097.908979      12090.216824           1.517382      6241.434948   \n",
       "min        5000.000000       2000.000000           1.000000         0.000000   \n",
       "25%       23550.000000      10000.000000           3.000000         0.000000   \n",
       "50%       35000.000000      15500.000000           4.000000         0.000000   \n",
       "75%       50375.000000      25000.000000           5.000000      3500.000000   \n",
       "max      100000.000000      50000.000000           7.000000     35000.000000   \n",
       "\n",
       "       Annual_HH_Income  No_of_Earning_Members  \n",
       "count      5.000000e+01              50.000000  \n",
       "mean       4.900190e+05               1.460000  \n",
       "std        3.201358e+05               0.734291  \n",
       "min        6.420000e+04               1.000000  \n",
       "25%        2.587500e+05               1.000000  \n",
       "50%        4.474200e+05               1.000000  \n",
       "75%        5.947200e+05               2.000000  \n",
       "max        1.404000e+06               4.000000  "
      ]
     },
     "execution_count": 25,
     "metadata": {},
     "output_type": "execute_result"
    }
   ],
   "source": [
    "# Sử dụng hàm describe\n",
    "data.describe()"
   ]
  },
  {
   "cell_type": "code",
   "execution_count": 26,
   "id": "appreciated-treaty",
   "metadata": {},
   "outputs": [
    {
     "name": "stdout",
     "output_type": "stream",
     "text": [
      "Giá trị trung bình của data:\n"
     ]
    },
    {
     "data": {
      "text/html": [
       "<div>\n",
       "<style scoped>\n",
       "    .dataframe tbody tr th:only-of-type {\n",
       "        vertical-align: middle;\n",
       "    }\n",
       "\n",
       "    .dataframe tbody tr th {\n",
       "        vertical-align: top;\n",
       "    }\n",
       "\n",
       "    .dataframe thead th {\n",
       "        text-align: right;\n",
       "    }\n",
       "</style>\n",
       "<table border=\"1\" class=\"dataframe\">\n",
       "  <thead>\n",
       "    <tr style=\"text-align: right;\">\n",
       "      <th></th>\n",
       "      <th>0</th>\n",
       "    </tr>\n",
       "  </thead>\n",
       "  <tbody>\n",
       "    <tr>\n",
       "      <th>Mthly_HH_Income</th>\n",
       "      <td>41558.00</td>\n",
       "    </tr>\n",
       "    <tr>\n",
       "      <th>Mthly_HH_Expense</th>\n",
       "      <td>18818.00</td>\n",
       "    </tr>\n",
       "    <tr>\n",
       "      <th>No_of_Fly_Members</th>\n",
       "      <td>4.06</td>\n",
       "    </tr>\n",
       "    <tr>\n",
       "      <th>Emi_or_Rent_Amt</th>\n",
       "      <td>3060.00</td>\n",
       "    </tr>\n",
       "    <tr>\n",
       "      <th>Annual_HH_Income</th>\n",
       "      <td>490019.04</td>\n",
       "    </tr>\n",
       "    <tr>\n",
       "      <th>No_of_Earning_Members</th>\n",
       "      <td>1.46</td>\n",
       "    </tr>\n",
       "  </tbody>\n",
       "</table>\n",
       "</div>"
      ],
      "text/plain": [
       "                               0\n",
       "Mthly_HH_Income         41558.00\n",
       "Mthly_HH_Expense        18818.00\n",
       "No_of_Fly_Members           4.06\n",
       "Emi_or_Rent_Amt          3060.00\n",
       "Annual_HH_Income       490019.04\n",
       "No_of_Earning_Members       1.46"
      ]
     },
     "execution_count": 26,
     "metadata": {},
     "output_type": "execute_result"
    }
   ],
   "source": [
    "# Tính trung bình các cột \n",
    "print(\"Giá trị trung bình của data:\")\n",
    "pd.DataFrame(data.mean())"
   ]
  },
  {
   "cell_type": "code",
   "execution_count": 27,
   "id": "infrared-immigration",
   "metadata": {},
   "outputs": [
    {
     "name": "stdout",
     "output_type": "stream",
     "text": [
      "Trung vị của data:\n"
     ]
    },
    {
     "data": {
      "text/html": [
       "<div>\n",
       "<style scoped>\n",
       "    .dataframe tbody tr th:only-of-type {\n",
       "        vertical-align: middle;\n",
       "    }\n",
       "\n",
       "    .dataframe tbody tr th {\n",
       "        vertical-align: top;\n",
       "    }\n",
       "\n",
       "    .dataframe thead th {\n",
       "        text-align: right;\n",
       "    }\n",
       "</style>\n",
       "<table border=\"1\" class=\"dataframe\">\n",
       "  <thead>\n",
       "    <tr style=\"text-align: right;\">\n",
       "      <th></th>\n",
       "      <th>0</th>\n",
       "    </tr>\n",
       "  </thead>\n",
       "  <tbody>\n",
       "    <tr>\n",
       "      <th>Mthly_HH_Income</th>\n",
       "      <td>35000.0</td>\n",
       "    </tr>\n",
       "    <tr>\n",
       "      <th>Mthly_HH_Expense</th>\n",
       "      <td>15500.0</td>\n",
       "    </tr>\n",
       "    <tr>\n",
       "      <th>No_of_Fly_Members</th>\n",
       "      <td>4.0</td>\n",
       "    </tr>\n",
       "    <tr>\n",
       "      <th>Emi_or_Rent_Amt</th>\n",
       "      <td>0.0</td>\n",
       "    </tr>\n",
       "    <tr>\n",
       "      <th>Annual_HH_Income</th>\n",
       "      <td>447420.0</td>\n",
       "    </tr>\n",
       "    <tr>\n",
       "      <th>No_of_Earning_Members</th>\n",
       "      <td>1.0</td>\n",
       "    </tr>\n",
       "  </tbody>\n",
       "</table>\n",
       "</div>"
      ],
      "text/plain": [
       "                              0\n",
       "Mthly_HH_Income         35000.0\n",
       "Mthly_HH_Expense        15500.0\n",
       "No_of_Fly_Members           4.0\n",
       "Emi_or_Rent_Amt             0.0\n",
       "Annual_HH_Income       447420.0\n",
       "No_of_Earning_Members       1.0"
      ]
     },
     "execution_count": 27,
     "metadata": {},
     "output_type": "execute_result"
    }
   ],
   "source": [
    "# Tính trung vị của các cột\n",
    "print(\"Trung vị của data:\")\n",
    "pd.DataFrame(data.median())"
   ]
  },
  {
   "cell_type": "code",
   "execution_count": 28,
   "id": "relevant-frank",
   "metadata": {},
   "outputs": [
    {
     "name": "stdout",
     "output_type": "stream",
     "text": [
      "Yếu vị của data:\n"
     ]
    },
    {
     "data": {
      "text/html": [
       "<div>\n",
       "<style scoped>\n",
       "    .dataframe tbody tr th:only-of-type {\n",
       "        vertical-align: middle;\n",
       "    }\n",
       "\n",
       "    .dataframe tbody tr th {\n",
       "        vertical-align: top;\n",
       "    }\n",
       "\n",
       "    .dataframe thead th {\n",
       "        text-align: right;\n",
       "    }\n",
       "</style>\n",
       "<table border=\"1\" class=\"dataframe\">\n",
       "  <thead>\n",
       "    <tr style=\"text-align: right;\">\n",
       "      <th></th>\n",
       "      <th>Mthly_HH_Income</th>\n",
       "      <th>Mthly_HH_Expense</th>\n",
       "      <th>No_of_Fly_Members</th>\n",
       "      <th>Emi_or_Rent_Amt</th>\n",
       "      <th>Annual_HH_Income</th>\n",
       "      <th>Highest_Qualified_Member</th>\n",
       "      <th>No_of_Earning_Members</th>\n",
       "    </tr>\n",
       "  </thead>\n",
       "  <tbody>\n",
       "    <tr>\n",
       "      <th>0</th>\n",
       "      <td>45000</td>\n",
       "      <td>25000</td>\n",
       "      <td>4</td>\n",
       "      <td>0</td>\n",
       "      <td>590400</td>\n",
       "      <td>Graduate</td>\n",
       "      <td>1</td>\n",
       "    </tr>\n",
       "  </tbody>\n",
       "</table>\n",
       "</div>"
      ],
      "text/plain": [
       "   Mthly_HH_Income  Mthly_HH_Expense  No_of_Fly_Members  Emi_or_Rent_Amt  \\\n",
       "0            45000             25000                  4                0   \n",
       "\n",
       "   Annual_HH_Income Highest_Qualified_Member  No_of_Earning_Members  \n",
       "0            590400                 Graduate                      1  "
      ]
     },
     "execution_count": 28,
     "metadata": {},
     "output_type": "execute_result"
    }
   ],
   "source": [
    "# Tìm mode\n",
    "print(\"Yếu vị của data:\")\n",
    "pd.DataFrame(data.mode(dropna = True))"
   ]
  },
  {
   "cell_type": "markdown",
   "id": "exempt-turkish",
   "metadata": {},
   "source": [
    "## Sự phân tán"
   ]
  },
  {
   "cell_type": "code",
   "execution_count": 29,
   "id": "colonial-encoding",
   "metadata": {},
   "outputs": [
    {
     "name": "stdout",
     "output_type": "stream",
     "text": [
      "min của data:\n"
     ]
    },
    {
     "data": {
      "text/html": [
       "<div>\n",
       "<style scoped>\n",
       "    .dataframe tbody tr th:only-of-type {\n",
       "        vertical-align: middle;\n",
       "    }\n",
       "\n",
       "    .dataframe tbody tr th {\n",
       "        vertical-align: top;\n",
       "    }\n",
       "\n",
       "    .dataframe thead th {\n",
       "        text-align: right;\n",
       "    }\n",
       "</style>\n",
       "<table border=\"1\" class=\"dataframe\">\n",
       "  <thead>\n",
       "    <tr style=\"text-align: right;\">\n",
       "      <th></th>\n",
       "      <th>0</th>\n",
       "    </tr>\n",
       "  </thead>\n",
       "  <tbody>\n",
       "    <tr>\n",
       "      <th>Mthly_HH_Income</th>\n",
       "      <td>5000</td>\n",
       "    </tr>\n",
       "    <tr>\n",
       "      <th>Mthly_HH_Expense</th>\n",
       "      <td>2000</td>\n",
       "    </tr>\n",
       "    <tr>\n",
       "      <th>No_of_Fly_Members</th>\n",
       "      <td>1</td>\n",
       "    </tr>\n",
       "    <tr>\n",
       "      <th>Emi_or_Rent_Amt</th>\n",
       "      <td>0</td>\n",
       "    </tr>\n",
       "    <tr>\n",
       "      <th>Annual_HH_Income</th>\n",
       "      <td>64200</td>\n",
       "    </tr>\n",
       "    <tr>\n",
       "      <th>No_of_Earning_Members</th>\n",
       "      <td>1</td>\n",
       "    </tr>\n",
       "  </tbody>\n",
       "</table>\n",
       "</div>"
      ],
      "text/plain": [
       "                           0\n",
       "Mthly_HH_Income         5000\n",
       "Mthly_HH_Expense        2000\n",
       "No_of_Fly_Members          1\n",
       "Emi_or_Rent_Amt            0\n",
       "Annual_HH_Income       64200\n",
       "No_of_Earning_Members      1"
      ]
     },
     "execution_count": 29,
     "metadata": {},
     "output_type": "execute_result"
    }
   ],
   "source": [
    "#tính min của từng cột\n",
    "\n",
    "print('min của data:')\n",
    "pd.DataFrame(data.min(skipna= True, numeric_only= True))"
   ]
  },
  {
   "cell_type": "code",
   "execution_count": 30,
   "id": "opponent-classification",
   "metadata": {},
   "outputs": [
    {
     "name": "stdout",
     "output_type": "stream",
     "text": [
      "max của data:\n"
     ]
    },
    {
     "data": {
      "text/html": [
       "<div>\n",
       "<style scoped>\n",
       "    .dataframe tbody tr th:only-of-type {\n",
       "        vertical-align: middle;\n",
       "    }\n",
       "\n",
       "    .dataframe tbody tr th {\n",
       "        vertical-align: top;\n",
       "    }\n",
       "\n",
       "    .dataframe thead th {\n",
       "        text-align: right;\n",
       "    }\n",
       "</style>\n",
       "<table border=\"1\" class=\"dataframe\">\n",
       "  <thead>\n",
       "    <tr style=\"text-align: right;\">\n",
       "      <th></th>\n",
       "      <th>0</th>\n",
       "    </tr>\n",
       "  </thead>\n",
       "  <tbody>\n",
       "    <tr>\n",
       "      <th>Mthly_HH_Income</th>\n",
       "      <td>100000</td>\n",
       "    </tr>\n",
       "    <tr>\n",
       "      <th>Mthly_HH_Expense</th>\n",
       "      <td>50000</td>\n",
       "    </tr>\n",
       "    <tr>\n",
       "      <th>No_of_Fly_Members</th>\n",
       "      <td>7</td>\n",
       "    </tr>\n",
       "    <tr>\n",
       "      <th>Emi_or_Rent_Amt</th>\n",
       "      <td>35000</td>\n",
       "    </tr>\n",
       "    <tr>\n",
       "      <th>Annual_HH_Income</th>\n",
       "      <td>1404000</td>\n",
       "    </tr>\n",
       "    <tr>\n",
       "      <th>No_of_Earning_Members</th>\n",
       "      <td>4</td>\n",
       "    </tr>\n",
       "  </tbody>\n",
       "</table>\n",
       "</div>"
      ],
      "text/plain": [
       "                             0\n",
       "Mthly_HH_Income         100000\n",
       "Mthly_HH_Expense         50000\n",
       "No_of_Fly_Members            7\n",
       "Emi_or_Rent_Amt          35000\n",
       "Annual_HH_Income       1404000\n",
       "No_of_Earning_Members        4"
      ]
     },
     "execution_count": 30,
     "metadata": {},
     "output_type": "execute_result"
    }
   ],
   "source": [
    "#tính max của từng cột\n",
    "\n",
    "print('max của data:')\n",
    "pd.DataFrame(data.max(skipna= True, numeric_only= True))"
   ]
  },
  {
   "cell_type": "code",
   "execution_count": 31,
   "id": "greek-shelter",
   "metadata": {},
   "outputs": [
    {
     "name": "stdout",
     "output_type": "stream",
     "text": [
      "Độ lệch chuẩn của data:\n"
     ]
    },
    {
     "data": {
      "text/html": [
       "<div>\n",
       "<style scoped>\n",
       "    .dataframe tbody tr th:only-of-type {\n",
       "        vertical-align: middle;\n",
       "    }\n",
       "\n",
       "    .dataframe tbody tr th {\n",
       "        vertical-align: top;\n",
       "    }\n",
       "\n",
       "    .dataframe thead th {\n",
       "        text-align: right;\n",
       "    }\n",
       "</style>\n",
       "<table border=\"1\" class=\"dataframe\">\n",
       "  <thead>\n",
       "    <tr style=\"text-align: right;\">\n",
       "      <th></th>\n",
       "      <th>0</th>\n",
       "    </tr>\n",
       "  </thead>\n",
       "  <tbody>\n",
       "    <tr>\n",
       "      <th>Mthly_HH_Income</th>\n",
       "      <td>26097.908979</td>\n",
       "    </tr>\n",
       "    <tr>\n",
       "      <th>Mthly_HH_Expense</th>\n",
       "      <td>12090.216824</td>\n",
       "    </tr>\n",
       "    <tr>\n",
       "      <th>No_of_Fly_Members</th>\n",
       "      <td>1.517382</td>\n",
       "    </tr>\n",
       "    <tr>\n",
       "      <th>Emi_or_Rent_Amt</th>\n",
       "      <td>6241.434948</td>\n",
       "    </tr>\n",
       "    <tr>\n",
       "      <th>Annual_HH_Income</th>\n",
       "      <td>320135.792123</td>\n",
       "    </tr>\n",
       "    <tr>\n",
       "      <th>No_of_Earning_Members</th>\n",
       "      <td>0.734291</td>\n",
       "    </tr>\n",
       "  </tbody>\n",
       "</table>\n",
       "</div>"
      ],
      "text/plain": [
       "                                   0\n",
       "Mthly_HH_Income         26097.908979\n",
       "Mthly_HH_Expense        12090.216824\n",
       "No_of_Fly_Members           1.517382\n",
       "Emi_or_Rent_Amt          6241.434948\n",
       "Annual_HH_Income       320135.792123\n",
       "No_of_Earning_Members       0.734291"
      ]
     },
     "execution_count": 31,
     "metadata": {},
     "output_type": "execute_result"
    }
   ],
   "source": [
    "# Tính độ lệch chuẩn - standard deviation\n",
    "print(\"Độ lệch chuẩn của data:\")\n",
    "pd.DataFrame(data.std(skipna = True))"
   ]
  },
  {
   "cell_type": "code",
   "execution_count": 32,
   "id": "dying-trinity",
   "metadata": {},
   "outputs": [
    {
     "name": "stdout",
     "output_type": "stream",
     "text": [
      "Phương sai của data:\n"
     ]
    },
    {
     "data": {
      "text/html": [
       "<div>\n",
       "<style scoped>\n",
       "    .dataframe tbody tr th:only-of-type {\n",
       "        vertical-align: middle;\n",
       "    }\n",
       "\n",
       "    .dataframe tbody tr th {\n",
       "        vertical-align: top;\n",
       "    }\n",
       "\n",
       "    .dataframe thead th {\n",
       "        text-align: right;\n",
       "    }\n",
       "</style>\n",
       "<table border=\"1\" class=\"dataframe\">\n",
       "  <thead>\n",
       "    <tr style=\"text-align: right;\">\n",
       "      <th></th>\n",
       "      <th>0</th>\n",
       "    </tr>\n",
       "  </thead>\n",
       "  <tbody>\n",
       "    <tr>\n",
       "      <th>Mthly_HH_Income</th>\n",
       "      <td>6.811009e+08</td>\n",
       "    </tr>\n",
       "    <tr>\n",
       "      <th>Mthly_HH_Expense</th>\n",
       "      <td>1.461733e+08</td>\n",
       "    </tr>\n",
       "    <tr>\n",
       "      <th>No_of_Fly_Members</th>\n",
       "      <td>2.302449e+00</td>\n",
       "    </tr>\n",
       "    <tr>\n",
       "      <th>Emi_or_Rent_Amt</th>\n",
       "      <td>3.895551e+07</td>\n",
       "    </tr>\n",
       "    <tr>\n",
       "      <th>Annual_HH_Income</th>\n",
       "      <td>1.024869e+11</td>\n",
       "    </tr>\n",
       "    <tr>\n",
       "      <th>No_of_Earning_Members</th>\n",
       "      <td>5.391837e-01</td>\n",
       "    </tr>\n",
       "  </tbody>\n",
       "</table>\n",
       "</div>"
      ],
      "text/plain": [
       "                                  0\n",
       "Mthly_HH_Income        6.811009e+08\n",
       "Mthly_HH_Expense       1.461733e+08\n",
       "No_of_Fly_Members      2.302449e+00\n",
       "Emi_or_Rent_Amt        3.895551e+07\n",
       "Annual_HH_Income       1.024869e+11\n",
       "No_of_Earning_Members  5.391837e-01"
      ]
     },
     "execution_count": 32,
     "metadata": {},
     "output_type": "execute_result"
    }
   ],
   "source": [
    "# Tính phương sai\n",
    "print(\"Phương sai của data:\")\n",
    "pd.DataFrame(data.var(skipna = True))"
   ]
  },
  {
   "cell_type": "code",
   "execution_count": 17,
   "id": "legendary-fluid",
   "metadata": {},
   "outputs": [
    {
     "data": {
      "text/plain": [
       "Text(0, 0.5, 'Count')"
      ]
     },
     "execution_count": 17,
     "metadata": {},
     "output_type": "execute_result"
    },
    {
     "data": {
      "image/png": "[encoded data removed]",
      "text/plain": [
       "<Figure size 432x288 with 1 Axes>"
      ]
     },
     "metadata": {
      "needs_background": "light"
     },
     "output_type": "display_data"
    }
   ],
   "source": [
    "data[[\"Mthly_HH_Expense\", \"Mthly_HH_Income\"]].plot()\n",
    "plt.ylabel('Count')"
   ]
  },
  {
   "cell_type": "code",
   "execution_count": null,
   "id": "beautiful-baking",
   "metadata": {},
   "outputs": [],
   "source": []
  },
  {
   "cell_type": "code",
   "execution_count": null,
   "id": "unable-louisiana",
   "metadata": {},
   "outputs": [],
   "source": []
  }
 ],
 "metadata": {
  "kernelspec": {
   "display_name": "Python 3",
   "language": "python",
   "name": "python3"
  },
  "language_info": {
   "codemirror_mode": {
    "name": "ipython",
    "version": 3
   },
   "file_extension": ".py",
   "mimetype": "text/x-python",
   "name": "python",
   "nbconvert_exporter": "python",
   "pygments_lexer": "ipython3",
   "version": "3.8.5"
  }
 },
 "nbformat": 4,
 "nbformat_minor": 5
}
