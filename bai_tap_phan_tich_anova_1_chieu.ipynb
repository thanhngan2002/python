{
 "cells": [
  {
   "cell_type": "markdown",
   "metadata": {
    "id": "ASVP-qkDUkET"
   },
   "source": [
    "Hãy sử dụng các tập dữ liệu sau và tiến hành phân tích ANOVA 1 chiều\n",
    "\n",
    "- [Excavation Depth and Archaeology](https://college.cengage.com/mathematics/brase/understandable_statistics/7e/students/datasets/owan/frames/owan01.html)\n",
    "- [Apple Orchard Experiment](https://college.cengage.com/mathematics/brase/understandable_statistics/7e/students/datasets/owan/frames/owan02.html)\n",
    "- [Red Dye Number 40](https://college.cengage.com/mathematics/brase/understandable_statistics/7e/students/datasets/owan/frames/owan03.html)\n",
    "- [Business Startup Costs](https://college.cengage.com/mathematics/brase/understandable_statistics/7e/students/datasets/owan/frames/owan04.html)\n",
    "- [Weights of Football Players](https://college.cengage.com/mathematics/brase/understandable_statistics/7e/students/datasets/owan/frames/owan05.html)"
   ]
  },
  {
   "cell_type": "code",
   "execution_count": 41,
   "metadata": {
    "id": "qJTnbthvUkEb"
   },
   "outputs": [
    {
     "data": {
      "text/html": [
       "<div>\n",
       "<style scoped>\n",
       "    .dataframe tbody tr th:only-of-type {\n",
       "        vertical-align: middle;\n",
       "    }\n",
       "\n",
       "    .dataframe tbody tr th {\n",
       "        vertical-align: top;\n",
       "    }\n",
       "\n",
       "    .dataframe thead th {\n",
       "        text-align: right;\n",
       "    }\n",
       "</style>\n",
       "<table border=\"1\" class=\"dataframe\">\n",
       "  <thead>\n",
       "    <tr style=\"text-align: right;\">\n",
       "      <th></th>\n",
       "      <th>X1</th>\n",
       "      <th>X2</th>\n",
       "      <th>X3</th>\n",
       "      <th>X4</th>\n",
       "      <th>X5</th>\n",
       "    </tr>\n",
       "  </thead>\n",
       "  <tbody>\n",
       "    <tr>\n",
       "      <th>0</th>\n",
       "      <td>1235</td>\n",
       "      <td>2674</td>\n",
       "      <td>4505</td>\n",
       "      <td>3838</td>\n",
       "      <td>1732</td>\n",
       "    </tr>\n",
       "    <tr>\n",
       "      <th>1</th>\n",
       "      <td>1238</td>\n",
       "      <td>2215</td>\n",
       "      <td>2345</td>\n",
       "      <td>3451</td>\n",
       "      <td>3552</td>\n",
       "    </tr>\n",
       "    <tr>\n",
       "      <th>2</th>\n",
       "      <td>1235</td>\n",
       "      <td>3448</td>\n",
       "      <td>2467</td>\n",
       "      <td>2301</td>\n",
       "      <td>4043</td>\n",
       "    </tr>\n",
       "    <tr>\n",
       "      <th>3</th>\n",
       "      <td>1144</td>\n",
       "      <td>2306</td>\n",
       "      <td>1149</td>\n",
       "      <td>2539</td>\n",
       "      <td>2530</td>\n",
       "    </tr>\n",
       "    <tr>\n",
       "      <th>4</th>\n",
       "      <td>1227</td>\n",
       "      <td>2382</td>\n",
       "      <td>2221</td>\n",
       "      <td>1237</td>\n",
       "      <td>8745</td>\n",
       "    </tr>\n",
       "  </tbody>\n",
       "</table>\n",
       "</div>"
      ],
      "text/plain": [
       "     X1    X2    X3    X4    X5\n",
       "0  1235  2674  4505  3838  1732\n",
       "1  1238  2215  2345  3451  3552\n",
       "2  1235  3448  2467  2301  4043\n",
       "3  1144  2306  1149  2539  2530\n",
       "4  1227  2382  2221  1237  8745"
      ]
     },
     "execution_count": 41,
     "metadata": {},
     "output_type": "execute_result"
    }
   ],
   "source": [
    "#Code here\n",
    "import pandas as pd\n",
    "data = pd.read_csv('C:/Users/Admin/Downloads/Book2.csv')\n",
    "data.head()"
   ]
  },
  {
   "cell_type": "code",
   "execution_count": 42,
   "metadata": {
    "id": "bkOkbk0fUkEc"
   },
   "outputs": [
    {
     "name": "stdout",
     "output_type": "stream",
     "text": [
      "statistic of X1 =  0.6855059862136841\n",
      "pvalue of X1 =  0.0015426327008754015\n",
      "Đấy không phải dữ liệu phân phối chuẩn\n",
      "statistic of X2 =  0.7633512616157532\n",
      "pvalue of X2 =  0.011461166664958\n",
      "Đấy không phải dữ liệu phân phối chuẩn\n",
      "statistic of X3 =  0.8866338729858398\n",
      "pvalue of X3 =  0.21767005324363708\n",
      "Không đủ bằng chứng để bác bỏ: Đây là dữ liệu phân phối chuẩn\n",
      "statistic of X4 =  0.9108788967132568\n",
      "pvalue of X4 =  0.36029431223869324\n",
      "Không đủ bằng chứng để bác bỏ: Đây là dữ liệu phân phối chuẩn\n",
      "statistic of X5 =  0.9236814975738525\n",
      "pvalue of X5 =  0.46044185757637024\n",
      "Không đủ bằng chứng để bác bỏ: Đây là dữ liệu phân phối chuẩn\n"
     ]
    }
   ],
   "source": [
    "\n",
    "import pandas as pd\n",
    "import seaborn as sns \n",
    "from scipy.stats import norm \n",
    "import matplotlib.pyplot as plt \n",
    "import statsmodels.api as sm\n",
    "import numpy as np\n",
    "from scipy import stats\n",
    "\n",
    "stat1, p1 = stats.shapiro(data['X1'])\n",
    "stat2, p2 = stats.shapiro(data['X2'])\n",
    "stat3, p3 = stats.shapiro(data['X3'])\n",
    "stat4, p4 = stats.shapiro(data['X4'])\n",
    "stat5, p5 = stats.shapiro(data['X5'])\n",
    "print('statistic of X1 = ',stat1)\n",
    "print('pvalue of X1 = ',p1)\n",
    "if (p1 > 0.05):\n",
    "    print('Không đủ bằng chứng để bác bỏ: Đây là dữ liệu phân phối chuẩn')\n",
    "else:\n",
    "    print('Đấy không phải dữ liệu phân phối chuẩn')\n",
    "    \n",
    "print('statistic of X2 = ',stat2)\n",
    "print('pvalue of X2 = ',p2)\n",
    "if (p2 > 0.05):\n",
    "    print('Không đủ bằng chứng để bác bỏ: Đây là dữ liệu phân phối chuẩn')\n",
    "else:\n",
    "    print('Đấy không phải dữ liệu phân phối chuẩn')\n",
    "\n",
    "print('statistic of X3 = ',stat3)\n",
    "print('pvalue of X3 = ',p3)\n",
    "if (p3 > 0.05):\n",
    "    print('Không đủ bằng chứng để bác bỏ: Đây là dữ liệu phân phối chuẩn')\n",
    "else:\n",
    "    print('Đấy không phải dữ liệu phân phối chuẩn')\n",
    "\n",
    "print('statistic of X4 = ',stat4)\n",
    "print('pvalue of X4 = ',p4)\n",
    "if (p4 > 0.05):\n",
    "    print('Không đủ bằng chứng để bác bỏ: Đây là dữ liệu phân phối chuẩn')\n",
    "else:\n",
    "    print('Đấy không phải dữ liệu phân phối chuẩn')\n",
    "\n",
    "print('statistic of X5 = ',stat5)\n",
    "print('pvalue of X5 = ',p5)\n",
    "if (p5 > 0.05):\n",
    "    print('Không đủ bằng chứng để bác bỏ: Đây là dữ liệu phân phối chuẩn')\n",
    "else:\n",
    "    print('Đấy không phải dữ liệu phân phối chuẩn')\n"
   ]
  },
  {
   "cell_type": "code",
   "execution_count": 43,
   "metadata": {},
   "outputs": [
    {
     "name": "stdout",
     "output_type": "stream",
     "text": [
      "statistic by Bartlett =  0.6351268083436615\n",
      "pvalue by Bartlett =  0.9590814463520091\n",
      "Không đủ bằng chứng để bác bỏ: Đây là các dữ liệu đồng nhất\n"
     ]
    }
   ],
   "source": [
    "#Code kiểm định tính đồng nhất về phương sai của các nhóm\n",
    "stat12345, p12345 = stats.bartlett(data['X1'], data['X2'], data['X3'], data['X4'], data['X5'])\n",
    "print('statistic by Bartlett = ',stat12345)\n",
    "print('pvalue by Bartlett = ',p12345)\n",
    "if (p12345 > 0.05):\n",
    "    print('Không đủ bằng chứng để bác bỏ: Đây là các dữ liệu đồng nhất')\n",
    "else:\n",
    "    print('Đấy không phải là các dữ liệu đồng nhất')"
   ]
  },
  {
   "cell_type": "code",
   "execution_count": 44,
   "metadata": {},
   "outputs": [
    {
     "name": "stdout",
     "output_type": "stream",
     "text": [
      "Kiểm định anova 1 chiều: \n",
      " statistic =  0.5849129927420446 \n",
      " pvalue =  0.6756339050210636\n"
     ]
    }
   ],
   "source": [
    "#kiểm định anova 1 chiều\n",
    "from scipy.stats import f_oneway\n",
    "statistic,pvalue = f_oneway(data['X1'], data['X2'], data['X3'], data['X4'], data['X5'])\n",
    "print(\"Kiểm định anova 1 chiều: \\n statistic = \",statistic,\"\\n pvalue = \",pvalue)"
   ]
  },
  {
   "cell_type": "code",
   "execution_count": 45,
   "metadata": {},
   "outputs": [
    {
     "data": {
      "text/html": [
       "<div>\n",
       "<style scoped>\n",
       "    .dataframe tbody tr th:only-of-type {\n",
       "        vertical-align: middle;\n",
       "    }\n",
       "\n",
       "    .dataframe tbody tr th {\n",
       "        vertical-align: top;\n",
       "    }\n",
       "\n",
       "    .dataframe thead th {\n",
       "        text-align: right;\n",
       "    }\n",
       "</style>\n",
       "<table border=\"1\" class=\"dataframe\">\n",
       "  <thead>\n",
       "    <tr style=\"text-align: right;\">\n",
       "      <th></th>\n",
       "      <th>X1</th>\n",
       "      <th>X2</th>\n",
       "      <th>X3</th>\n",
       "      <th>X4</th>\n",
       "      <th>X5</th>\n",
       "    </tr>\n",
       "  </thead>\n",
       "  <tbody>\n",
       "    <tr>\n",
       "      <th>0</th>\n",
       "      <td>1156</td>\n",
       "      <td>2335</td>\n",
       "      <td>3566</td>\n",
       "      <td>3462</td>\n",
       "      <td>4646</td>\n",
       "    </tr>\n",
       "    <tr>\n",
       "      <th>1</th>\n",
       "      <td>2256</td>\n",
       "      <td>6266</td>\n",
       "      <td>2523</td>\n",
       "      <td>3666</td>\n",
       "      <td>2422</td>\n",
       "    </tr>\n",
       "    <tr>\n",
       "      <th>2</th>\n",
       "      <td>2551</td>\n",
       "      <td>1253</td>\n",
       "      <td>5326</td>\n",
       "      <td>6477</td>\n",
       "      <td>2556</td>\n",
       "    </tr>\n",
       "    <tr>\n",
       "      <th>3</th>\n",
       "      <td>1342</td>\n",
       "      <td>4564</td>\n",
       "      <td>8853</td>\n",
       "      <td>3535</td>\n",
       "      <td>3537</td>\n",
       "    </tr>\n",
       "    <tr>\n",
       "      <th>4</th>\n",
       "      <td>6536</td>\n",
       "      <td>5326</td>\n",
       "      <td>464</td>\n",
       "      <td>4664</td>\n",
       "      <td>4674</td>\n",
       "    </tr>\n",
       "  </tbody>\n",
       "</table>\n",
       "</div>"
      ],
      "text/plain": [
       "     X1    X2    X3    X4    X5\n",
       "0  1156  2335  3566  3462  4646\n",
       "1  2256  6266  2523  3666  2422\n",
       "2  2551  1253  5326  6477  2556\n",
       "3  1342  4564  8853  3535  3537\n",
       "4  6536  5326   464  4664  4674"
      ]
     },
     "execution_count": 45,
     "metadata": {},
     "output_type": "execute_result"
    }
   ],
   "source": [
    "#twnd\n",
    "import pandas as pd\n",
    "data = pd.read_csv('C:/Users/Admin/Downloads/Book1.csv')\n",
    "data.head()"
   ]
  },
  {
   "cell_type": "code",
   "execution_count": 46,
   "metadata": {},
   "outputs": [
    {
     "name": "stdout",
     "output_type": "stream",
     "text": [
      "statistic of X1 =  0.7902960777282715\n",
      "pvalue of X1 =  0.032796598970890045\n",
      "Đấy không phải dữ liệu phân phối chuẩn\n",
      "statistic of X2 =  0.9813879728317261\n",
      "pvalue of X2 =  0.9660019874572754\n",
      "Không đủ bằng chứng để bác bỏ: Đây là dữ liệu phân phối chuẩn\n",
      "statistic of X3 =  0.9703121185302734\n",
      "pvalue of X3 =  0.9006891250610352\n",
      "Không đủ bằng chứng để bác bỏ: Đây là dữ liệu phân phối chuẩn\n",
      "statistic of X4 =  0.8500037789344788\n",
      "pvalue of X4 =  0.12291077524423599\n",
      "Không đủ bằng chứng để bác bỏ: Đây là dữ liệu phân phối chuẩn\n",
      "statistic of X5 =  0.8451748490333557\n",
      "pvalue of X5 =  0.11097095161676407\n",
      "Không đủ bằng chứng để bác bỏ: Đây là dữ liệu phân phối chuẩn\n"
     ]
    }
   ],
   "source": [
    "stat1, p1 = stats.shapiro(data['X1'])\n",
    "stat2, p2 = stats.shapiro(data['X2'])\n",
    "stat3, p3 = stats.shapiro(data['X3'])\n",
    "stat4, p4 = stats.shapiro(data['X4'])\n",
    "stat5, p5 = stats.shapiro(data['X5'])\n",
    "print('statistic of X1 = ',stat1)\n",
    "print('pvalue of X1 = ',p1)\n",
    "if (p1 > 0.05):\n",
    "    print('Không đủ bằng chứng để bác bỏ: Đây là dữ liệu phân phối chuẩn')\n",
    "else:\n",
    "    print('Đấy không phải dữ liệu phân phối chuẩn')\n",
    "    \n",
    "print('statistic of X2 = ',stat2)\n",
    "print('pvalue of X2 = ',p2)\n",
    "if (p2 > 0.05):\n",
    "    print('Không đủ bằng chứng để bác bỏ: Đây là dữ liệu phân phối chuẩn')\n",
    "else:\n",
    "    print('Đấy không phải dữ liệu phân phối chuẩn')\n",
    "\n",
    "print('statistic of X3 = ',stat3)\n",
    "print('pvalue of X3 = ',p3)\n",
    "if (p3 > 0.05):\n",
    "    print('Không đủ bằng chứng để bác bỏ: Đây là dữ liệu phân phối chuẩn')\n",
    "else:\n",
    "    print('Đấy không phải dữ liệu phân phối chuẩn')\n",
    "\n",
    "print('statistic of X4 = ',stat4)\n",
    "print('pvalue of X4 = ',p4)\n",
    "if (p4 > 0.05):\n",
    "    print('Không đủ bằng chứng để bác bỏ: Đây là dữ liệu phân phối chuẩn')\n",
    "else:\n",
    "    print('Đấy không phải dữ liệu phân phối chuẩn')\n",
    "\n",
    "print('statistic of X5 = ',stat5)\n",
    "print('pvalue of X5 = ',p5)\n",
    "if (p5 > 0.05):\n",
    "    print('Không đủ bằng chứng để bác bỏ: Đây là dữ liệu phân phối chuẩn')\n",
    "else:\n",
    "    print('Đây không phải dữ liệu phân phối chuẩn')\n"
   ]
  },
  {
   "cell_type": "code",
   "execution_count": 47,
   "metadata": {},
   "outputs": [
    {
     "name": "stdout",
     "output_type": "stream",
     "text": [
      "statistic by Bartlett =  5.213572600186325\n",
      "pvalue by Bartlett =  0.2660771044602229\n",
      "Không đủ bằng chứng để bác bỏ: Đây là các dữ liệu đồng nhất\n"
     ]
    }
   ],
   "source": [
    "#Code kiểm định tính đồng nhất về phương sai của các nhóm\n",
    "stat12345, p12345 = stats.bartlett(data['X1'], data['X2'], data['X3'], data['X4'], data['X5'])\n",
    "print('statistic by Bartlett = ',stat12345)\n",
    "print('pvalue by Bartlett = ',p12345)\n",
    "if (p12345 > 0.05):\n",
    "    print('Không đủ bằng chứng để bác bỏ: Đây là các dữ liệu đồng nhất')\n",
    "else:\n",
    "    print('Đây không phải là các dữ liệu đồng nhất')"
   ]
  },
  {
   "cell_type": "code",
   "execution_count": 48,
   "metadata": {},
   "outputs": [
    {
     "name": "stdout",
     "output_type": "stream",
     "text": [
      "Kiểm định anova 1 chiều:  statistic =  1.4529752596262138 pvalue =  0.24113046415372344\n"
     ]
    }
   ],
   "source": [
    "#kiểm định anova 1 chiều\n",
    "from scipy.stats import f_oneway\n",
    "statistic,pvalue = f_oneway(data['X1'], data['X2'], data['X3'], data['X4'], data['X5'])\n",
    "print(\"Kiểm định anova 1 chiều:  statistic = \",statistic,\"pvalue = \",pvalue)"
   ]
  },
  {
   "cell_type": "code",
   "execution_count": null,
   "metadata": {},
   "outputs": [],
   "source": []
  }
 ],
 "metadata": {
  "colab": {
   "name": "bai-tap-phan-tich-anova-1-chieu.ipynb",
   "provenance": []
  },
  "kernelspec": {
   "display_name": "Python 3",
   "language": "python",
   "name": "python3"
  },
  "language_info": {
   "codemirror_mode": {
    "name": "ipython",
    "version": 3
   },
   "file_extension": ".py",
   "mimetype": "text/x-python",
   "name": "python",
   "nbconvert_exporter": "python",
   "pygments_lexer": "ipython3",
   "version": "3.8.5"
  }
 },
 "nbformat": 4,
 "nbformat_minor": 1
}
