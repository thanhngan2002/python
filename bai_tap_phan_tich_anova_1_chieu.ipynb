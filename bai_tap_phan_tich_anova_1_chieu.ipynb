{
 "cells": [
  {
   "cell_type": "markdown",
   "metadata": {
    "id": "ASVP-qkDUkET"
   },
   "source": [
    "Hãy sử dụng các tập dữ liệu sau và tiến hành phân tích ANOVA 1 chiều\n",
    "\n",
    "- [Excavation Depth and Archaeology](https://college.cengage.com/mathematics/brase/understandable_statistics/7e/students/datasets/owan/frames/owan01.html)\n",
    "- [Apple Orchard Experiment](https://college.cengage.com/mathematics/brase/understandable_statistics/7e/students/datasets/owan/frames/owan02.html)\n",
    "- [Red Dye Number 40](https://college.cengage.com/mathematics/brase/understandable_statistics/7e/students/datasets/owan/frames/owan03.html)\n",
    "- [Business Startup Costs](https://college.cengage.com/mathematics/brase/understandable_statistics/7e/students/datasets/owan/frames/owan04.html)\n",
    "- [Weights of Football Players](https://college.cengage.com/mathematics/brase/understandable_statistics/7e/students/datasets/owan/frames/owan05.html)"
   ]
  },
  {
   "cell_type": "code",
   "execution_count": 6,
   "metadata": {
    "id": "qJTnbthvUkEb"
   },
   "outputs": [
    {
     "data": {
      "text/html": [
       "<div>\n",
       "<style scoped>\n",
       "    .dataframe tbody tr th:only-of-type {\n",
       "        vertical-align: middle;\n",
       "    }\n",
       "\n",
       "    .dataframe tbody tr th {\n",
       "        vertical-align: top;\n",
       "    }\n",
       "\n",
       "    .dataframe thead th {\n",
       "        text-align: right;\n",
       "    }\n",
       "</style>\n",
       "<table border=\"1\" class=\"dataframe\">\n",
       "  <thead>\n",
       "    <tr style=\"text-align: right;\">\n",
       "      <th></th>\n",
       "      <th>X1</th>\n",
       "      <th>X2</th>\n",
       "      <th>X3</th>\n",
       "      <th>X4</th>\n",
       "      <th>X5</th>\n",
       "    </tr>\n",
       "  </thead>\n",
       "  <tbody>\n",
       "    <tr>\n",
       "      <th>0</th>\n",
       "      <td>2569</td>\n",
       "      <td>2074</td>\n",
       "      <td>2505</td>\n",
       "      <td>2838</td>\n",
       "      <td>1532</td>\n",
       "    </tr>\n",
       "    <tr>\n",
       "      <th>1</th>\n",
       "      <td>2928</td>\n",
       "      <td>2885</td>\n",
       "      <td>2315</td>\n",
       "      <td>2351</td>\n",
       "      <td>2552</td>\n",
       "    </tr>\n",
       "    <tr>\n",
       "      <th>2</th>\n",
       "      <td>2865</td>\n",
       "      <td>3378</td>\n",
       "      <td>2667</td>\n",
       "      <td>3001</td>\n",
       "      <td>3083</td>\n",
       "    </tr>\n",
       "    <tr>\n",
       "      <th>3</th>\n",
       "      <td>3844</td>\n",
       "      <td>3906</td>\n",
       "      <td>2390</td>\n",
       "      <td>2439</td>\n",
       "      <td>2330</td>\n",
       "    </tr>\n",
       "    <tr>\n",
       "      <th>4</th>\n",
       "      <td>3027</td>\n",
       "      <td>2782</td>\n",
       "      <td>3021</td>\n",
       "      <td>2199</td>\n",
       "      <td>2079</td>\n",
       "    </tr>\n",
       "  </tbody>\n",
       "</table>\n",
       "</div>"
      ],
      "text/plain": [
       "     X1    X2    X3    X4    X5\n",
       "0  2569  2074  2505  2838  1532\n",
       "1  2928  2885  2315  2351  2552\n",
       "2  2865  3378  2667  3001  3083\n",
       "3  3844  3906  2390  2439  2330\n",
       "4  3027  2782  3021  2199  2079"
      ]
     },
     "execution_count": 6,
     "metadata": {},
     "output_type": "execute_result"
    }
   ],
   "source": [
    "#Code here\n",
    "import pandas as pd\n",
    "data = pd.read_csv('C:/Users/Admin/Downloads/owan02.csv')\n",
    "data.head()"
   ]
  },
  {
   "cell_type": "code",
   "execution_count": 8,
   "metadata": {
    "id": "bkOkbk0fUkEc"
   },
   "outputs": [
    {
     "name": "stdout",
     "output_type": "stream",
     "text": [
      "statistic of X1 =  0.9433721303939819\n",
      "pvalue of X1 =  0.644533634185791\n",
      "Không đủ bằng chứng để bác bỏ: Đây là dữ liệu phân phối chuẩn\n",
      "statistic of X2 =  0.953587532043457\n",
      "pvalue of X2 =  0.7472830414772034\n",
      "Không đủ bằng chứng để bác bỏ: Đây là dữ liệu phân phối chuẩn\n",
      "statistic of X3 =  0.9045020341873169\n",
      "pvalue of X3 =  0.3169650137424469\n",
      "Không đủ bằng chứng để bác bỏ: Đây là dữ liệu phân phối chuẩn\n",
      "statistic of X4 =  0.9388160705566406\n",
      "pvalue of X4 =  0.5994704365730286\n",
      "Không đủ bằng chứng để bác bỏ: Đây là dữ liệu phân phối chuẩn\n",
      "statistic of X5 =  0.9593089818954468\n",
      "pvalue of X5 =  0.803491473197937\n",
      "Không đủ bằng chứng để bác bỏ: Đây là dữ liệu phân phối chuẩn\n"
     ]
    }
   ],
   "source": [
    "\n",
    "import pandas as pd\n",
    "import seaborn as sns \n",
    "from scipy.stats import norm \n",
    "import matplotlib.pyplot as plt \n",
    "import statsmodels.api as sm\n",
    "import numpy as np\n",
    "from scipy import stats\n",
    "stat1, p1 = stats.shapiro(data['X1'])\n",
    "stat2, p2 = stats.shapiro(data['X2'])\n",
    "stat3, p3 = stats.shapiro(data['X3'])\n",
    "stat4, p4 = stats.shapiro(data['X4'])\n",
    "stat5, p5 = stats.shapiro(data['X5'])\n",
    "print('statistic of X1 = ',stat1)\n",
    "print('pvalue of X1 = ',p1)\n",
    "if (p1 > 0.05):\n",
    "    print('Không đủ bằng chứng để bác bỏ: Đây là dữ liệu phân phối chuẩn')\n",
    "else:\n",
    "    print('Đấy không phải dữ liệu phân phối chuẩn')\n",
    "    \n",
    "print('statistic of X2 = ',stat2)\n",
    "print('pvalue of X2 = ',p2)\n",
    "if (p2 > 0.05):\n",
    "    print('Không đủ bằng chứng để bác bỏ: Đây là dữ liệu phân phối chuẩn')\n",
    "else:\n",
    "    print('Đấy không phải dữ liệu phân phối chuẩn')\n",
    "\n",
    "print('statistic of X3 = ',stat3)\n",
    "print('pvalue of X3 = ',p3)\n",
    "if (p3 > 0.05):\n",
    "    print('Không đủ bằng chứng để bác bỏ: Đây là dữ liệu phân phối chuẩn')\n",
    "else:\n",
    "    print('Đấy không phải dữ liệu phân phối chuẩn')\n",
    "\n",
    "print('statistic of X4 = ',stat4)\n",
    "print('pvalue of X4 = ',p4)\n",
    "if (p4 > 0.05):\n",
    "    print('Không đủ bằng chứng để bác bỏ: Đây là dữ liệu phân phối chuẩn')\n",
    "else:\n",
    "    print('Đấy không phải dữ liệu phân phối chuẩn')\n",
    "\n",
    "print('statistic of X5 = ',stat5)\n",
    "print('pvalue of X5 = ',p5)\n",
    "if (p5 > 0.05):\n",
    "    print('Không đủ bằng chứng để bác bỏ: Đây là dữ liệu phân phối chuẩn')\n",
    "else:\n",
    "    print('Đấy không phải dữ liệu phân phối chuẩn')\n"
   ]
  },
  {
   "cell_type": "code",
   "execution_count": 9,
   "metadata": {},
   "outputs": [
    {
     "name": "stdout",
     "output_type": "stream",
     "text": [
      "statistic by Bartlett =  1.505379741017298\n",
      "pvalue by Bartlett =  0.825688088344803\n",
      "Không đủ bằng chứng để bác bỏ: Đây là các dữ liệu đồng nhất\n"
     ]
    }
   ],
   "source": [
    "#Code kiểm định tính đồng nhất về phương sai của các nhóm\n",
    "stat12345, p12345 = stats.bartlett(data['X1'], data['X2'], data['X3'], data['X4'], data['X5'])\n",
    "print('statistic by Bartlett = ',stat12345)\n",
    "print('pvalue by Bartlett = ',p12345)\n",
    "if (p12345 > 0.05):\n",
    "    print('Không đủ bằng chứng để bác bỏ: Đây là các dữ liệu đồng nhất')\n",
    "else:\n",
    "    print('Đấy không phải là các dữ liệu đồng nhất')"
   ]
  },
  {
   "cell_type": "code",
   "execution_count": 10,
   "metadata": {},
   "outputs": [
    {
     "name": "stdout",
     "output_type": "stream",
     "text": [
      "Kiểm định anova 1 chiều: \n",
      " statistic =  1.3142198672637213 \n",
      " pvalue =  0.28382583646160114\n"
     ]
    }
   ],
   "source": [
    "#kiểm định anova 1 chiều\n",
    "from scipy.stats import f_oneway\n",
    "statistic,pvalue = f_oneway(data['X1'], data['X2'], data['X3'], data['X4'], data['X5'])\n",
    "print(\"Kiểm định anova 1 chiều: \\n statistic = \",statistic,\"\\n pvalue = \",pvalue)"
   ]
  },
  {
   "cell_type": "code",
   "execution_count": 11,
   "metadata": {},
   "outputs": [
    {
     "data": {
      "text/html": [
       "<div>\n",
       "<style scoped>\n",
       "    .dataframe tbody tr th:only-of-type {\n",
       "        vertical-align: middle;\n",
       "    }\n",
       "\n",
       "    .dataframe tbody tr th {\n",
       "        vertical-align: top;\n",
       "    }\n",
       "\n",
       "    .dataframe thead th {\n",
       "        text-align: right;\n",
       "    }\n",
       "</style>\n",
       "<table border=\"1\" class=\"dataframe\">\n",
       "  <thead>\n",
       "    <tr style=\"text-align: right;\">\n",
       "      <th></th>\n",
       "      <th>X1</th>\n",
       "      <th>X2</th>\n",
       "      <th>X3</th>\n",
       "      <th>X4</th>\n",
       "      <th>X5</th>\n",
       "    </tr>\n",
       "  </thead>\n",
       "  <tbody>\n",
       "    <tr>\n",
       "      <th>0</th>\n",
       "      <td>250</td>\n",
       "      <td>260</td>\n",
       "      <td>270</td>\n",
       "      <td>260</td>\n",
       "      <td>247</td>\n",
       "    </tr>\n",
       "    <tr>\n",
       "      <th>1</th>\n",
       "      <td>255</td>\n",
       "      <td>271</td>\n",
       "      <td>250</td>\n",
       "      <td>255</td>\n",
       "      <td>249</td>\n",
       "    </tr>\n",
       "    <tr>\n",
       "      <th>2</th>\n",
       "      <td>255</td>\n",
       "      <td>258</td>\n",
       "      <td>281</td>\n",
       "      <td>265</td>\n",
       "      <td>255</td>\n",
       "    </tr>\n",
       "    <tr>\n",
       "      <th>3</th>\n",
       "      <td>264</td>\n",
       "      <td>263</td>\n",
       "      <td>273</td>\n",
       "      <td>257</td>\n",
       "      <td>247</td>\n",
       "    </tr>\n",
       "    <tr>\n",
       "      <th>4</th>\n",
       "      <td>250</td>\n",
       "      <td>267</td>\n",
       "      <td>257</td>\n",
       "      <td>268</td>\n",
       "      <td>244</td>\n",
       "    </tr>\n",
       "  </tbody>\n",
       "</table>\n",
       "</div>"
      ],
      "text/plain": [
       "    X1   X2   X3   X4   X5\n",
       "0  250  260  270  260  247\n",
       "1  255  271  250  255  249\n",
       "2  255  258  281  265  255\n",
       "3  264  263  273  257  247\n",
       "4  250  267  257  268  244"
      ]
     },
     "execution_count": 11,
     "metadata": {},
     "output_type": "execute_result"
    }
   ],
   "source": [
    "#twnd\n",
    "import pandas as pd\n",
    "data = pd.read_csv('C:/Users/Admin/Downloads/owan05.csv')\n",
    "data.head()"
   ]
  },
  {
   "cell_type": "code",
   "execution_count": 12,
   "metadata": {},
   "outputs": [
    {
     "name": "stdout",
     "output_type": "stream",
     "text": [
      "statistic of X1 =  0.8771048784255981\n",
      "pvalue of X1 =  0.028549334034323692\n",
      "Đấy không phải dữ liệu phân phối chuẩn\n",
      "statistic of X2 =  0.9226022958755493\n",
      "pvalue of X2 =  0.16341625154018402\n",
      "Không đủ bằng chứng để bác bỏ: Đây là dữ liệu phân phối chuẩn\n",
      "statistic of X3 =  0.9616518616676331\n",
      "pvalue of X3 =  0.6627115607261658\n",
      "Không đủ bằng chứng để bác bỏ: Đây là dữ liệu phân phối chuẩn\n",
      "statistic of X4 =  0.8918235898017883\n",
      "pvalue of X4 =  0.0496593713760376\n",
      "Đấy không phải dữ liệu phân phối chuẩn\n",
      "statistic of X5 =  0.9416549205780029\n",
      "pvalue of X5 =  0.3383376896381378\n",
      "Không đủ bằng chứng để bác bỏ: Đây là dữ liệu phân phối chuẩn\n"
     ]
    }
   ],
   "source": [
    "stat1, p1 = stats.shapiro(data['X1'])\n",
    "stat2, p2 = stats.shapiro(data['X2'])\n",
    "stat3, p3 = stats.shapiro(data['X3'])\n",
    "stat4, p4 = stats.shapiro(data['X4'])\n",
    "stat5, p5 = stats.shapiro(data['X5'])\n",
    "print('statistic of X1 = ',stat1)\n",
    "print('pvalue of X1 = ',p1)\n",
    "if (p1 > 0.05):\n",
    "    print('Không đủ bằng chứng để bác bỏ: Đây là dữ liệu phân phối chuẩn')\n",
    "else:\n",
    "    print('Đấy không phải dữ liệu phân phối chuẩn')\n",
    "    \n",
    "print('statistic of X2 = ',stat2)\n",
    "print('pvalue of X2 = ',p2)\n",
    "if (p2 > 0.05):\n",
    "    print('Không đủ bằng chứng để bác bỏ: Đây là dữ liệu phân phối chuẩn')\n",
    "else:\n",
    "    print('Đấy không phải dữ liệu phân phối chuẩn')\n",
    "\n",
    "print('statistic of X3 = ',stat3)\n",
    "print('pvalue of X3 = ',p3)\n",
    "if (p3 > 0.05):\n",
    "    print('Không đủ bằng chứng để bác bỏ: Đây là dữ liệu phân phối chuẩn')\n",
    "else:\n",
    "    print('Đấy không phải dữ liệu phân phối chuẩn')\n",
    "\n",
    "print('statistic of X4 = ',stat4)\n",
    "print('pvalue of X4 = ',p4)\n",
    "if (p4 > 0.05):\n",
    "    print('Không đủ bằng chứng để bác bỏ: Đây là dữ liệu phân phối chuẩn')\n",
    "else:\n",
    "    print('Đấy không phải dữ liệu phân phối chuẩn')\n",
    "\n",
    "print('statistic of X5 = ',stat5)\n",
    "print('pvalue of X5 = ',p5)\n",
    "if (p5 > 0.05):\n",
    "    print('Không đủ bằng chứng để bác bỏ: Đây là dữ liệu phân phối chuẩn')\n",
    "else:\n",
    "    print('Đây không phải dữ liệu phân phối chuẩn')\n"
   ]
  },
  {
   "cell_type": "code",
   "execution_count": 13,
   "metadata": {},
   "outputs": [
    {
     "name": "stdout",
     "output_type": "stream",
     "text": [
      "statistic by Bartlett =  0.2415086370613209\n",
      "pvalue by Bartlett =  0.9932703847319687\n",
      "Không đủ bằng chứng để bác bỏ: Đây là các dữ liệu đồng nhất\n"
     ]
    }
   ],
   "source": [
    "#Code kiểm định tính đồng nhất về phương sai của các nhóm\n",
    "stat12345, p12345 = stats.bartlett(data['X1'], data['X2'], data['X3'], data['X4'], data['X5'])\n",
    "print('statistic by Bartlett = ',stat12345)\n",
    "print('pvalue by Bartlett = ',p12345)\n",
    "if (p12345 > 0.05):\n",
    "    print('Không đủ bằng chứng để bác bỏ: Đây là các dữ liệu đồng nhất')\n",
    "else:\n",
    "    print('Đây không phải là các dữ liệu đồng nhất')"
   ]
  },
  {
   "cell_type": "code",
   "execution_count": 14,
   "metadata": {},
   "outputs": [
    {
     "name": "stdout",
     "output_type": "stream",
     "text": [
      "Kiểm định anova 1 chiều:  statistic =  1.5772240916480775 pvalue =  0.18840454722696476\n"
     ]
    }
   ],
   "source": [
    "#kiểm định anova 1 chiều\n",
    "from scipy.stats import f_oneway\n",
    "statistic,pvalue = f_oneway(data['X1'], data['X2'], data['X3'], data['X4'], data['X5'])\n",
    "print(\"Kiểm định anova 1 chiều:  statistic = \",statistic,\"pvalue = \",pvalue)"
   ]
  },
  {
   "cell_type": "code",
   "execution_count": null,
   "metadata": {},
   "outputs": [],
   "source": []
  },
  {
   "cell_type": "code",
   "execution_count": null,
   "metadata": {},
   "outputs": [],
   "source": []
  }
 ],
 "metadata": {
  "colab": {
   "name": "bai-tap-phan-tich-anova-1-chieu.ipynb",
   "provenance": []
  },
  "kernelspec": {
   "display_name": "Python 3",
   "language": "python",
   "name": "python3"
  },
  "language_info": {
   "codemirror_mode": {
    "name": "ipython",
    "version": 3
   },
   "file_extension": ".py",
   "mimetype": "text/x-python",
   "name": "python",
   "nbconvert_exporter": "python",
   "pygments_lexer": "ipython3",
   "version": "3.8.5"
  }
 },
 "nbformat": 4,
 "nbformat_minor": 1
}
